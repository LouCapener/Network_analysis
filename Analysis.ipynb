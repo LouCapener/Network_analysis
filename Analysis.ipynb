{
 "cells": [
  {
   "cell_type": "code",
   "execution_count": 7,
   "id": "723a720f",
   "metadata": {},
   "outputs": [],
   "source": [
    "import pandas as pd\n",
    "from textblob import TextBlob\n",
    "import spacy\n",
    "import numpy as np\n",
    "\n",
    "nlp = spacy.load(\"en_core_web_sm\")"
   ]
  },
  {
   "cell_type": "code",
   "execution_count": 8,
   "id": "12da9ef7",
   "metadata": {},
   "outputs": [],
   "source": [
    "df = pd.read_csv('Raw_data/lines.csv')"
   ]
  },
  {
   "cell_type": "code",
   "execution_count": 9,
   "id": "6b7c2b4e-bba3-4a8a-be0f-b2b4dabc0b0c",
   "metadata": {},
   "outputs": [
    {
     "data": {
      "text/html": [
       "<div>\n",
       "<style scoped>\n",
       "    .dataframe tbody tr th:only-of-type {\n",
       "        vertical-align: middle;\n",
       "    }\n",
       "\n",
       "    .dataframe tbody tr th {\n",
       "        vertical-align: top;\n",
       "    }\n",
       "\n",
       "    .dataframe thead th {\n",
       "        text-align: right;\n",
       "    }\n",
       "</style>\n",
       "<table border=\"1\" class=\"dataframe\">\n",
       "  <thead>\n",
       "    <tr style=\"text-align: right;\">\n",
       "      <th></th>\n",
       "      <th>name</th>\n",
       "      <th>ep_szn</th>\n",
       "      <th>title</th>\n",
       "      <th>lines</th>\n",
       "    </tr>\n",
       "  </thead>\n",
       "  <tbody>\n",
       "    <tr>\n",
       "      <th>0</th>\n",
       "      <td>The boys</td>\n",
       "      <td>101</td>\n",
       "      <td>\"Cartman Gets an Anal Probe\"</td>\n",
       "      <td>School days, school days, teacher's golden ru....</td>\n",
       "    </tr>\n",
       "    <tr>\n",
       "      <th>1</th>\n",
       "      <td>Kyle Broflovski</td>\n",
       "      <td>101</td>\n",
       "      <td>\"Cartman Gets an Anal Probe\"</td>\n",
       "      <td>Ah, damn it! My little brother's trying to fol...</td>\n",
       "    </tr>\n",
       "    <tr>\n",
       "      <th>2</th>\n",
       "      <td>Ike Broflovski</td>\n",
       "      <td>101</td>\n",
       "      <td>\"Cartman Gets an Anal Probe\"</td>\n",
       "      <td>Ee gko zeeponanner.</td>\n",
       "    </tr>\n",
       "    <tr>\n",
       "      <th>3</th>\n",
       "      <td>Kyle</td>\n",
       "      <td>101</td>\n",
       "      <td>\"Cartman Gets an Anal Probe\"</td>\n",
       "      <td>Ike, you can't come to school with me. [Ike ch...</td>\n",
       "    </tr>\n",
       "    <tr>\n",
       "      <th>4</th>\n",
       "      <td>Eric Cartman</td>\n",
       "      <td>101</td>\n",
       "      <td>\"Cartman Gets an Anal Probe\"</td>\n",
       "      <td>Yeah, go home you little dildo!</td>\n",
       "    </tr>\n",
       "    <tr>\n",
       "      <th>...</th>\n",
       "      <td>...</td>\n",
       "      <td>...</td>\n",
       "      <td>...</td>\n",
       "      <td>...</td>\n",
       "    </tr>\n",
       "    <tr>\n",
       "      <th>86939</th>\n",
       "      <td>Sharon</td>\n",
       "      <td>2606</td>\n",
       "      <td>\"Spring Break\"</td>\n",
       "      <td>Stanley, what have I told you about playing \"W...</td>\n",
       "    </tr>\n",
       "    <tr>\n",
       "      <th>86940</th>\n",
       "      <td>Stan</td>\n",
       "      <td>2606</td>\n",
       "      <td>\"Spring Break\"</td>\n",
       "      <td>Aw!</td>\n",
       "    </tr>\n",
       "    <tr>\n",
       "      <th>86941</th>\n",
       "      <td>Garrison</td>\n",
       "      <td>2606</td>\n",
       "      <td>\"Spring Break\"</td>\n",
       "      <td>Oh, Rick!</td>\n",
       "    </tr>\n",
       "    <tr>\n",
       "      <th>86942</th>\n",
       "      <td>Garrison</td>\n",
       "      <td>2606</td>\n",
       "      <td>\"Spring Break\"</td>\n",
       "      <td>I don't want to go through all that again. I j...</td>\n",
       "    </tr>\n",
       "    <tr>\n",
       "      <th>86943</th>\n",
       "      <td>Rick</td>\n",
       "      <td>2606</td>\n",
       "      <td>\"Spring Break\"</td>\n",
       "      <td>Well, I guess we'll just have to see what happ...</td>\n",
       "    </tr>\n",
       "  </tbody>\n",
       "</table>\n",
       "<p>86944 rows × 4 columns</p>\n",
       "</div>"
      ],
      "text/plain": [
       "                  name  ep_szn                          title  \\\n",
       "0             The boys     101   \"Cartman Gets an Anal Probe\"   \n",
       "1      Kyle Broflovski     101   \"Cartman Gets an Anal Probe\"   \n",
       "2       Ike Broflovski     101   \"Cartman Gets an Anal Probe\"   \n",
       "3                 Kyle     101   \"Cartman Gets an Anal Probe\"   \n",
       "4         Eric Cartman     101   \"Cartman Gets an Anal Probe\"   \n",
       "...                ...     ...                            ...   \n",
       "86939           Sharon    2606                 \"Spring Break\"   \n",
       "86940             Stan    2606                 \"Spring Break\"   \n",
       "86941         Garrison    2606                 \"Spring Break\"   \n",
       "86942         Garrison    2606                 \"Spring Break\"   \n",
       "86943             Rick    2606                 \"Spring Break\"   \n",
       "\n",
       "                                                   lines  \n",
       "0      School days, school days, teacher's golden ru....  \n",
       "1      Ah, damn it! My little brother's trying to fol...  \n",
       "2                                    Ee gko zeeponanner.  \n",
       "3      Ike, you can't come to school with me. [Ike ch...  \n",
       "4                        Yeah, go home you little dildo!  \n",
       "...                                                  ...  \n",
       "86939  Stanley, what have I told you about playing \"W...  \n",
       "86940                                                Aw!  \n",
       "86941                                          Oh, Rick!  \n",
       "86942  I don't want to go through all that again. I j...  \n",
       "86943  Well, I guess we'll just have to see what happ...  \n",
       "\n",
       "[86944 rows x 4 columns]"
      ]
     },
     "execution_count": 9,
     "metadata": {},
     "output_type": "execute_result"
    }
   ],
   "source": [
    "df"
   ]
  },
  {
   "cell_type": "code",
   "execution_count": 10,
   "id": "9cd8907b-ce47-4f35-b4b4-dbd6974d6ff9",
   "metadata": {},
   "outputs": [
    {
     "data": {
      "text/html": [
       "<div>\n",
       "<style scoped>\n",
       "    .dataframe tbody tr th:only-of-type {\n",
       "        vertical-align: middle;\n",
       "    }\n",
       "\n",
       "    .dataframe tbody tr th {\n",
       "        vertical-align: top;\n",
       "    }\n",
       "\n",
       "    .dataframe thead th {\n",
       "        text-align: right;\n",
       "    }\n",
       "</style>\n",
       "<table border=\"1\" class=\"dataframe\">\n",
       "  <thead>\n",
       "    <tr style=\"text-align: right;\">\n",
       "      <th></th>\n",
       "      <th>name</th>\n",
       "      <th>ep_szn</th>\n",
       "      <th>title</th>\n",
       "      <th>lines</th>\n",
       "    </tr>\n",
       "  </thead>\n",
       "  <tbody>\n",
       "    <tr>\n",
       "      <th>22141</th>\n",
       "      <td>Eric</td>\n",
       "      <td>415</td>\n",
       "      <td>\"Fat Camp\"</td>\n",
       "      <td>[pissed off] Aw, damnit!</td>\n",
       "    </tr>\n",
       "  </tbody>\n",
       "</table>\n",
       "</div>"
      ],
      "text/plain": [
       "       name  ep_szn        title                     lines\n",
       "22141  Eric     415   \"Fat Camp\"  [pissed off] Aw, damnit!"
      ]
     },
     "execution_count": 10,
     "metadata": {},
     "output_type": "execute_result"
    }
   ],
   "source": [
    "df[df.name == 'Eric']"
   ]
  },
  {
   "cell_type": "markdown",
   "id": "a67f0243-e942-4964-b110-e538c8d687c1",
   "metadata": {},
   "source": [
    "# Pre-processing\n",
    "\n",
    "* Inspect NaN values and decide what to do with these rows\n",
    "* Split strings so that we're not just dealing with one big string for each line\n",
    "* Remove punctuation from all of the lines"
   ]
  },
  {
   "cell_type": "code",
   "execution_count": 11,
   "id": "e32ebabd",
   "metadata": {},
   "outputs": [
    {
     "data": {
      "text/plain": [
       "name      31\n",
       "ep_szn     0\n",
       "title      0\n",
       "lines      6\n",
       "dtype: int64"
      ]
     },
     "execution_count": 11,
     "metadata": {},
     "output_type": "execute_result"
    }
   ],
   "source": [
    "df.isna().sum()"
   ]
  },
  {
   "cell_type": "code",
   "execution_count": 12,
   "id": "2dd90dad-8722-422e-9f56-75315c352666",
   "metadata": {},
   "outputs": [
    {
     "data": {
      "text/html": [
       "<div>\n",
       "<style scoped>\n",
       "    .dataframe tbody tr th:only-of-type {\n",
       "        vertical-align: middle;\n",
       "    }\n",
       "\n",
       "    .dataframe tbody tr th {\n",
       "        vertical-align: top;\n",
       "    }\n",
       "\n",
       "    .dataframe thead th {\n",
       "        text-align: right;\n",
       "    }\n",
       "</style>\n",
       "<table border=\"1\" class=\"dataframe\">\n",
       "  <thead>\n",
       "    <tr style=\"text-align: right;\">\n",
       "      <th></th>\n",
       "      <th>name</th>\n",
       "      <th>ep_szn</th>\n",
       "      <th>title</th>\n",
       "      <th>lines</th>\n",
       "    </tr>\n",
       "  </thead>\n",
       "  <tbody>\n",
       "    <tr>\n",
       "      <th>53949</th>\n",
       "      <td>NaN</td>\n",
       "      <td>1212</td>\n",
       "      <td>\"About Last Night...\"</td>\n",
       "      <td>Boom, baby!</td>\n",
       "    </tr>\n",
       "    <tr>\n",
       "      <th>75959</th>\n",
       "      <td>NaN</td>\n",
       "      <td>2008</td>\n",
       "      <td>\"Members Only\"</td>\n",
       "      <td>[the machine closes enseals Garrison]</td>\n",
       "    </tr>\n",
       "    <tr>\n",
       "      <th>75968</th>\n",
       "      <td>NaN</td>\n",
       "      <td>2008</td>\n",
       "      <td>\"Members Only\"</td>\n",
       "      <td>[Cartman, Heidi, and the secretary turn their ...</td>\n",
       "    </tr>\n",
       "    <tr>\n",
       "      <th>76089</th>\n",
       "      <td>NaN</td>\n",
       "      <td>2008</td>\n",
       "      <td>\"Members Only\"</td>\n",
       "      <td>[everyone continues walking]</td>\n",
       "    </tr>\n",
       "    <tr>\n",
       "      <th>76213</th>\n",
       "      <td>NaN</td>\n",
       "      <td>2009</td>\n",
       "      <td>\"Not Funny\"</td>\n",
       "      <td>[crowd stops chattering]</td>\n",
       "    </tr>\n",
       "  </tbody>\n",
       "</table>\n",
       "</div>"
      ],
      "text/plain": [
       "      name  ep_szn                   title  \\\n",
       "53949  NaN    1212   \"About Last Night...\"   \n",
       "75959  NaN    2008          \"Members Only\"   \n",
       "75968  NaN    2008          \"Members Only\"   \n",
       "76089  NaN    2008          \"Members Only\"   \n",
       "76213  NaN    2009             \"Not Funny\"   \n",
       "\n",
       "                                                   lines  \n",
       "53949                                        Boom, baby!  \n",
       "75959              [the machine closes enseals Garrison]  \n",
       "75968  [Cartman, Heidi, and the secretary turn their ...  \n",
       "76089                       [everyone continues walking]  \n",
       "76213                           [crowd stops chattering]  "
      ]
     },
     "execution_count": 12,
     "metadata": {},
     "output_type": "execute_result"
    }
   ],
   "source": [
    "# Let's have a look at some..\n",
    "# We can see we have some lines with no speaker and also some \"stage direction\" type of comments\n",
    "\n",
    "df[df.name.isna()].head(5)"
   ]
  },
  {
   "cell_type": "code",
   "execution_count": 13,
   "id": "d4b6987b-6c48-4b48-9e72-198adfde9960",
   "metadata": {},
   "outputs": [],
   "source": [
    "# & keeps rows where ALL conditions are True\n",
    "\n",
    "df = df[~(df.name.isna()) & (~df.lines.isna())].reset_index(drop = True)"
   ]
  },
  {
   "cell_type": "code",
   "execution_count": 14,
   "id": "5a818e1b-0501-48b5-a411-37b4a1301848",
   "metadata": {},
   "outputs": [
    {
     "data": {
      "text/plain": [
       "name      0\n",
       "ep_szn    0\n",
       "title     0\n",
       "lines     0\n",
       "dtype: int64"
      ]
     },
     "execution_count": 14,
     "metadata": {},
     "output_type": "execute_result"
    }
   ],
   "source": [
    "# Check it's worked\n",
    "\n",
    "df.isna().sum()"
   ]
  },
  {
   "cell_type": "code",
   "execution_count": 15,
   "id": "f1d027e9-5ea0-4e73-8ef9-8f91c26fcf24",
   "metadata": {},
   "outputs": [
    {
     "data": {
      "text/plain": [
       "\"School days, school days, teacher's golden ru... [Ike runs to the team]\""
      ]
     },
     "execution_count": 15,
     "metadata": {},
     "output_type": "execute_result"
    }
   ],
   "source": [
    "df.loc[0, 'lines']"
   ]
  },
  {
   "cell_type": "code",
   "execution_count": 16,
   "id": "b3c238f2-facb-4ffe-87ce-0affc9fbf892",
   "metadata": {},
   "outputs": [
    {
     "name": "stderr",
     "output_type": "stream",
     "text": [
      "/var/folders/dm/468m4xf52c71yhldz5ck50pw0000gn/T/ipykernel_14290/444882383.py:3: FutureWarning: A value is trying to be set on a copy of a DataFrame or Series through chained assignment using an inplace method.\n",
      "The behavior will change in pandas 3.0. This inplace method will never work because the intermediate object on which we are setting values always behaves as a copy.\n",
      "\n",
      "For example, when doing 'df[col].method(value, inplace=True)', try using 'df.method({col: value}, inplace=True)' or df[col] = df[col].method(value) instead, to perform the operation inplace on the original object.\n",
      "\n",
      "\n",
      "  df['lines'].replace(to_replace=\"\\[.*?]\", value=\"\", regex=True, inplace=True)\n"
     ]
    }
   ],
   "source": [
    "# Before we go ahead and strip all punctuation we want to remove all of the \"stage direction\" stuff\n",
    "\n",
    "df['lines'].replace(to_replace=\"\\[.*?]\", value=\"\", regex=True, inplace=True)"
   ]
  },
  {
   "cell_type": "code",
   "execution_count": 17,
   "id": "6702569b-6138-43bd-aba2-47e929b16794",
   "metadata": {},
   "outputs": [
    {
     "data": {
      "text/plain": [
       "\"School days, school days, teacher's golden ru... \""
      ]
     },
     "execution_count": 17,
     "metadata": {},
     "output_type": "execute_result"
    }
   ],
   "source": [
    "# Let's check if it worked\n",
    "\n",
    "df.loc[0, 'lines']"
   ]
  },
  {
   "cell_type": "code",
   "execution_count": 18,
   "id": "99b2a168-26fe-43cb-9b2d-68eb49072cce",
   "metadata": {},
   "outputs": [
    {
     "data": {
      "text/html": [
       "<div>\n",
       "<style scoped>\n",
       "    .dataframe tbody tr th:only-of-type {\n",
       "        vertical-align: middle;\n",
       "    }\n",
       "\n",
       "    .dataframe tbody tr th {\n",
       "        vertical-align: top;\n",
       "    }\n",
       "\n",
       "    .dataframe thead th {\n",
       "        text-align: right;\n",
       "    }\n",
       "</style>\n",
       "<table border=\"1\" class=\"dataframe\">\n",
       "  <thead>\n",
       "    <tr style=\"text-align: right;\">\n",
       "      <th></th>\n",
       "      <th>name</th>\n",
       "      <th>ep_szn</th>\n",
       "      <th>title</th>\n",
       "      <th>lines</th>\n",
       "    </tr>\n",
       "  </thead>\n",
       "  <tbody>\n",
       "    <tr>\n",
       "      <th>20680</th>\n",
       "      <td>Satan</td>\n",
       "      <td>411</td>\n",
       "      <td>\"Probably\"</td>\n",
       "      <td>God?? I can't do that. I haven't spoken to Go...</td>\n",
       "    </tr>\n",
       "  </tbody>\n",
       "</table>\n",
       "</div>"
      ],
      "text/plain": [
       "        name  ep_szn        title  \\\n",
       "20680  Satan     411   \"Probably\"   \n",
       "\n",
       "                                                   lines  \n",
       "20680   God?? I can't do that. I haven't spoken to Go...  "
      ]
     },
     "execution_count": 18,
     "metadata": {},
     "output_type": "execute_result"
    }
   ],
   "source": [
    "df[df.lines == \" God?? I can't do that. I haven't spoken to God in like, 5000 years.\"]"
   ]
  },
  {
   "cell_type": "code",
   "execution_count": 19,
   "id": "23dd80e4-40e7-46e5-ae12-de8e0dfe5b18",
   "metadata": {},
   "outputs": [],
   "source": [
    "df['string_split'] = df['lines'].str.split()"
   ]
  },
  {
   "cell_type": "code",
   "execution_count": 20,
   "id": "9e27f776-b4ec-476b-aaf0-ca14c66d9d91",
   "metadata": {},
   "outputs": [
    {
     "data": {
      "text/plain": [
       "['School', 'days,', 'school', 'days,', \"teacher's\", 'golden', 'ru...']"
      ]
     },
     "execution_count": 20,
     "metadata": {},
     "output_type": "execute_result"
    }
   ],
   "source": [
    "df.loc[0, 'string_split']"
   ]
  },
  {
   "cell_type": "code",
   "execution_count": 21,
   "id": "26368a18-d69d-44a3-beca-7d64d0bf04ab",
   "metadata": {},
   "outputs": [
    {
     "name": "stdout",
     "output_type": "stream",
     "text": [
      "!\"#$%&()*+,./:;<=>?@[\\]^_`{|}~“”-\n",
      "...\n"
     ]
    }
   ],
   "source": [
    "English_punctuation = \"!\\\"#$%&()*+,./:;<=>?@[\\]^_`{|}~“”-\"      # Define a variable with all the punctuation to remove.\n",
    "print(English_punctuation)                                     # Print that defined variable, just to check it is correct.\n",
    "print(\"...\") \n",
    "\n",
    "def remove_punctuation(from_text):                           # Had to define a function to iterate over the strings in a row\n",
    "    table = str.maketrans('', '', English_punctuation)       # The python function 'maketrans' creates a table that maps\n",
    "    stripped = [w.translate(table) for w in from_text]        # the punctation marks to 'None'. Print the table to check. \n",
    "    return stripped"
   ]
  },
  {
   "cell_type": "code",
   "execution_count": 22,
   "id": "816eee63-63dc-4935-ba63-edcdea6b3cd5",
   "metadata": {},
   "outputs": [],
   "source": [
    "df['no_punct'] = df['string_split'].apply(remove_punctuation)"
   ]
  },
  {
   "cell_type": "markdown",
   "id": "f783dea6-3379-4017-93ef-1834831f54d7",
   "metadata": {},
   "source": [
    "# Extract names from lines\n",
    "\n",
    "What we want to do now is find a way to pull out every name from the lines in our dataset. \n",
    "Luckily for us when we did our webscraping, the webpage was formatted in a way that the names were easy to pull out into their own column. \n",
    "\n",
    "So, below, you'll see that what we do is create a variable which contains a list of all our unique names in the dataset. We then create 2 empty lists:\n",
    "\n",
    "* match = will hold the names that match those in our unique names list\n",
    "* index = will hold the indexes that pertain to the row of the dataset we are iterating through\n",
    "\n",
    "You can see we also have a counter which is set to -1, because our index starts at 0. \n",
    "Then we have a series of for loops:\n",
    "\n",
    "* first for loop iterates through each list of split strings in the dataset\n",
    "* second for loop then iterates through each indivdual string/word within each list\n",
    "* third for loop then iterates through each unique name in our list of unique names\n",
    "\n",
    "Then we have an if statement which checks if the individual string matches any name in the list of names.\n",
    "If it does we then append the name to our empty match list, along with its index."
   ]
  },
  {
   "cell_type": "code",
   "execution_count": 23,
   "id": "0f92f7fd-57d6-4f73-8aba-cd51e7a4f6d3",
   "metadata": {},
   "outputs": [],
   "source": [
    "names = list(df.name.unique())"
   ]
  },
  {
   "cell_type": "code",
   "execution_count": 24,
   "id": "6839daa7-a864-48c8-9574-b02e9b4043f4",
   "metadata": {},
   "outputs": [
    {
     "data": {
      "text/plain": [
       "['The boys', 'Kyle Broflovski', 'Ike Broflovski', 'Kyle', 'Eric Cartman']"
      ]
     },
     "execution_count": 24,
     "metadata": {},
     "output_type": "execute_result"
    }
   ],
   "source": [
    "names[:5]"
   ]
  },
  {
   "cell_type": "markdown",
   "id": "732df642-05d0-4dfa-8822-33b7bec58b39",
   "metadata": {},
   "source": [
    "Executing the cell below may take a few minutes as it's iterating through 86907 lines which contain 11 strings on average."
   ]
  },
  {
   "cell_type": "code",
   "execution_count": 25,
   "id": "1fea93f0-1e9e-4746-946d-1723a175d120",
   "metadata": {
    "scrolled": true
   },
   "outputs": [],
   "source": [
    "match = []\n",
    "index = []\n",
    "counter = -1\n",
    "\n",
    "for lines in df.no_punct:\n",
    "    counter += 1\n",
    "    for word in lines:\n",
    "        for i in names:\n",
    "            if word == i:\n",
    "                match.append(i)\n",
    "                index.append(counter)\n",
    "\n",
    "                "
   ]
  },
  {
   "cell_type": "code",
   "execution_count": 26,
   "id": "10d13aba-4598-4666-a940-eebca88b0ced",
   "metadata": {},
   "outputs": [
    {
     "data": {
      "text/plain": [
       "['Ike',\n",
       " 'Dude',\n",
       " 'Cartman',\n",
       " 'Kenny',\n",
       " 'Dude',\n",
       " 'Ike',\n",
       " 'Cartman',\n",
       " 'Dude',\n",
       " 'Cartman',\n",
       " 'Chef']"
      ]
     },
     "execution_count": 26,
     "metadata": {},
     "output_type": "execute_result"
    }
   ],
   "source": [
    "# Let's check out our match list\n",
    "\n",
    "match[:10]"
   ]
  },
  {
   "cell_type": "code",
   "execution_count": 27,
   "id": "9aa67277-6ec9-4b3e-8527-04dae6def371",
   "metadata": {},
   "outputs": [
    {
     "data": {
      "text/plain": [
       "[3, 5, 7, 11, 14, 15, 18, 28, 31, 37]"
      ]
     },
     "execution_count": 27,
     "metadata": {},
     "output_type": "execute_result"
    }
   ],
   "source": [
    "# Let's look at our index list\n",
    "\n",
    "index[:10]"
   ]
  },
  {
   "cell_type": "code",
   "execution_count": 28,
   "id": "ccdab20b-9bbd-4355-897f-4eff35b27b8a",
   "metadata": {},
   "outputs": [
    {
     "data": {
      "text/html": [
       "<div>\n",
       "<style scoped>\n",
       "    .dataframe tbody tr th:only-of-type {\n",
       "        vertical-align: middle;\n",
       "    }\n",
       "\n",
       "    .dataframe tbody tr th {\n",
       "        vertical-align: top;\n",
       "    }\n",
       "\n",
       "    .dataframe thead th {\n",
       "        text-align: right;\n",
       "    }\n",
       "</style>\n",
       "<table border=\"1\" class=\"dataframe\">\n",
       "  <thead>\n",
       "    <tr style=\"text-align: right;\">\n",
       "      <th></th>\n",
       "      <th>name</th>\n",
       "      <th>ep_szn</th>\n",
       "      <th>title</th>\n",
       "      <th>lines</th>\n",
       "      <th>string_split</th>\n",
       "      <th>no_punct</th>\n",
       "    </tr>\n",
       "  </thead>\n",
       "  <tbody>\n",
       "    <tr>\n",
       "      <th>3</th>\n",
       "      <td>Kyle</td>\n",
       "      <td>101</td>\n",
       "      <td>\"Cartman Gets an Anal Probe\"</td>\n",
       "      <td>Ike, you can't come to school with me.</td>\n",
       "      <td>[Ike,, you, can't, come, to, school, with, me.]</td>\n",
       "      <td>[Ike, you, can't, come, to, school, with, me]</td>\n",
       "    </tr>\n",
       "    <tr>\n",
       "      <th>5</th>\n",
       "      <td>Kyle</td>\n",
       "      <td>101</td>\n",
       "      <td>\"Cartman Gets an Anal Probe\"</td>\n",
       "      <td>Dude, don't call my brother a dildo!</td>\n",
       "      <td>[Dude,, don't, call, my, brother, a, dildo!]</td>\n",
       "      <td>[Dude, don't, call, my, brother, a, dildo]</td>\n",
       "    </tr>\n",
       "    <tr>\n",
       "      <th>7</th>\n",
       "      <td>Kyle</td>\n",
       "      <td>101</td>\n",
       "      <td>\"Cartman Gets an Anal Probe\"</td>\n",
       "      <td>Well, I don't know... and I'll bet Cartman doe...</td>\n",
       "      <td>[Well,, I, don't, know..., and, I'll, bet, Car...</td>\n",
       "      <td>[Well, I, don't, know, and, I'll, bet, Cartman...</td>\n",
       "    </tr>\n",
       "    <tr>\n",
       "      <th>11</th>\n",
       "      <td>Stan</td>\n",
       "      <td>101</td>\n",
       "      <td>\"Cartman Gets an Anal Probe\"</td>\n",
       "      <td>What's a dildo, Kenny?</td>\n",
       "      <td>[What's, a, dildo,, Kenny?]</td>\n",
       "      <td>[What's, a, dildo, Kenny]</td>\n",
       "    </tr>\n",
       "    <tr>\n",
       "      <th>14</th>\n",
       "      <td>Stan</td>\n",
       "      <td>101</td>\n",
       "      <td>\"Cartman Gets an Anal Probe\"</td>\n",
       "      <td>Dude, that kicks ass!</td>\n",
       "      <td>[Dude,, that, kicks, ass!]</td>\n",
       "      <td>[Dude, that, kicks, ass]</td>\n",
       "    </tr>\n",
       "    <tr>\n",
       "      <th>15</th>\n",
       "      <td>Kyle</td>\n",
       "      <td>101</td>\n",
       "      <td>\"Cartman Gets an Anal Probe\"</td>\n",
       "      <td>Yeah, check this one out. Ready Ike? Kick the ...</td>\n",
       "      <td>[Yeah,, check, this, one, out., Ready, Ike?, K...</td>\n",
       "      <td>[Yeah, check, this, one, out, Ready, Ike, Kick...</td>\n",
       "    </tr>\n",
       "    <tr>\n",
       "      <th>18</th>\n",
       "      <td>Stan</td>\n",
       "      <td>101</td>\n",
       "      <td>\"Cartman Gets an Anal Probe\"</td>\n",
       "      <td>Whoa, Cartman! Looks like you didn't get much ...</td>\n",
       "      <td>[Whoa,, Cartman!, Looks, like, you, didn't, ge...</td>\n",
       "      <td>[Whoa, Cartman, Looks, like, you, didn't, get,...</td>\n",
       "    </tr>\n",
       "    <tr>\n",
       "      <th>28</th>\n",
       "      <td>Stan</td>\n",
       "      <td>101</td>\n",
       "      <td>\"Cartman Gets an Anal Probe\"</td>\n",
       "      <td>Dude! Visitors!</td>\n",
       "      <td>[Dude!, Visitors!]</td>\n",
       "      <td>[Dude, Visitors]</td>\n",
       "    </tr>\n",
       "    <tr>\n",
       "      <th>31</th>\n",
       "      <td>Stan</td>\n",
       "      <td>101</td>\n",
       "      <td>\"Cartman Gets an Anal Probe\"</td>\n",
       "      <td>That wasn't a dream Cartman, those were visitors!</td>\n",
       "      <td>[That, wasn't, a, dream, Cartman,, those, were...</td>\n",
       "      <td>[That, wasn't, a, dream, Cartman, those, were,...</td>\n",
       "    </tr>\n",
       "    <tr>\n",
       "      <th>37</th>\n",
       "      <td>Boys</td>\n",
       "      <td>101</td>\n",
       "      <td>\"Cartman Gets an Anal Probe\"</td>\n",
       "      <td>Hey, Chef.</td>\n",
       "      <td>[Hey,, Chef.]</td>\n",
       "      <td>[Hey, Chef]</td>\n",
       "    </tr>\n",
       "  </tbody>\n",
       "</table>\n",
       "</div>"
      ],
      "text/plain": [
       "    name  ep_szn                          title  \\\n",
       "3   Kyle     101   \"Cartman Gets an Anal Probe\"   \n",
       "5   Kyle     101   \"Cartman Gets an Anal Probe\"   \n",
       "7   Kyle     101   \"Cartman Gets an Anal Probe\"   \n",
       "11  Stan     101   \"Cartman Gets an Anal Probe\"   \n",
       "14  Stan     101   \"Cartman Gets an Anal Probe\"   \n",
       "15  Kyle     101   \"Cartman Gets an Anal Probe\"   \n",
       "18  Stan     101   \"Cartman Gets an Anal Probe\"   \n",
       "28  Stan     101   \"Cartman Gets an Anal Probe\"   \n",
       "31  Stan     101   \"Cartman Gets an Anal Probe\"   \n",
       "37  Boys     101   \"Cartman Gets an Anal Probe\"   \n",
       "\n",
       "                                                lines  \\\n",
       "3             Ike, you can't come to school with me.    \n",
       "5                Dude, don't call my brother a dildo!   \n",
       "7   Well, I don't know... and I'll bet Cartman doe...   \n",
       "11                             What's a dildo, Kenny?   \n",
       "14                              Dude, that kicks ass!   \n",
       "15  Yeah, check this one out. Ready Ike? Kick the ...   \n",
       "18  Whoa, Cartman! Looks like you didn't get much ...   \n",
       "28                                    Dude! Visitors!   \n",
       "31  That wasn't a dream Cartman, those were visitors!   \n",
       "37                                         Hey, Chef.   \n",
       "\n",
       "                                         string_split  \\\n",
       "3     [Ike,, you, can't, come, to, school, with, me.]   \n",
       "5        [Dude,, don't, call, my, brother, a, dildo!]   \n",
       "7   [Well,, I, don't, know..., and, I'll, bet, Car...   \n",
       "11                        [What's, a, dildo,, Kenny?]   \n",
       "14                         [Dude,, that, kicks, ass!]   \n",
       "15  [Yeah,, check, this, one, out., Ready, Ike?, K...   \n",
       "18  [Whoa,, Cartman!, Looks, like, you, didn't, ge...   \n",
       "28                                 [Dude!, Visitors!]   \n",
       "31  [That, wasn't, a, dream, Cartman,, those, were...   \n",
       "37                                      [Hey,, Chef.]   \n",
       "\n",
       "                                             no_punct  \n",
       "3       [Ike, you, can't, come, to, school, with, me]  \n",
       "5          [Dude, don't, call, my, brother, a, dildo]  \n",
       "7   [Well, I, don't, know, and, I'll, bet, Cartman...  \n",
       "11                          [What's, a, dildo, Kenny]  \n",
       "14                           [Dude, that, kicks, ass]  \n",
       "15  [Yeah, check, this, one, out, Ready, Ike, Kick...  \n",
       "18  [Whoa, Cartman, Looks, like, you, didn't, get,...  \n",
       "28                                   [Dude, Visitors]  \n",
       "31  [That, wasn't, a, dream, Cartman, those, were,...  \n",
       "37                                        [Hey, Chef]  "
      ]
     },
     "execution_count": 28,
     "metadata": {},
     "output_type": "execute_result"
    }
   ],
   "source": [
    "# Seems right! Although may need to deal with \"Dude\"\n",
    "\n",
    "df.loc[index[:10]]"
   ]
  },
  {
   "cell_type": "code",
   "execution_count": 29,
   "id": "7b32f09b-0543-458b-a9fc-976a428737f4",
   "metadata": {},
   "outputs": [],
   "source": [
    "# Let's create our filtered dataset using our indexes\n",
    "\n",
    "filtered = df.loc[index]"
   ]
  },
  {
   "cell_type": "code",
   "execution_count": 38,
   "id": "e2d4380d-99bd-4bbd-804c-986d20ff238a",
   "metadata": {},
   "outputs": [],
   "source": [
    "# Let's assign our list of matches to a new column\n",
    "\n",
    "filtered['matches'] = match"
   ]
  },
  {
   "cell_type": "code",
   "execution_count": 53,
   "id": "9c2fd27f-510d-48bd-8757-74a04607945d",
   "metadata": {},
   "outputs": [
    {
     "data": {
      "text/html": [
       "<div>\n",
       "<style scoped>\n",
       "    .dataframe tbody tr th:only-of-type {\n",
       "        vertical-align: middle;\n",
       "    }\n",
       "\n",
       "    .dataframe tbody tr th {\n",
       "        vertical-align: top;\n",
       "    }\n",
       "\n",
       "    .dataframe thead th {\n",
       "        text-align: right;\n",
       "    }\n",
       "</style>\n",
       "<table border=\"1\" class=\"dataframe\">\n",
       "  <thead>\n",
       "    <tr style=\"text-align: right;\">\n",
       "      <th></th>\n",
       "      <th>name</th>\n",
       "      <th>ep_szn</th>\n",
       "      <th>title</th>\n",
       "      <th>lines</th>\n",
       "      <th>string_split</th>\n",
       "      <th>no_punct</th>\n",
       "      <th>matches</th>\n",
       "    </tr>\n",
       "  </thead>\n",
       "  <tbody>\n",
       "    <tr>\n",
       "      <th>18798</th>\n",
       "      <td>Mom</td>\n",
       "      <td>406</td>\n",
       "      <td>\"Cartman Joins NAMBLA\"</td>\n",
       "      <td>You can't eat, Kenny. We have to save food for...</td>\n",
       "      <td>[You, can't, eat,, Kenny., We, have, to, save,...</td>\n",
       "      <td>[You, can't, eat, Kenny, We, have, to, save, f...</td>\n",
       "      <td>Kenny</td>\n",
       "    </tr>\n",
       "    <tr>\n",
       "      <th>18800</th>\n",
       "      <td>Mom</td>\n",
       "      <td>406</td>\n",
       "      <td>\"Cartman Joins NAMBLA\"</td>\n",
       "      <td>Kenny, you have to change the baby's diapers!</td>\n",
       "      <td>[Kenny,, you, have, to, change, the, baby's, d...</td>\n",
       "      <td>[Kenny, you, have, to, change, the, baby's, di...</td>\n",
       "      <td>Kenny</td>\n",
       "    </tr>\n",
       "    <tr>\n",
       "      <th>33034</th>\n",
       "      <td>Mom</td>\n",
       "      <td>702</td>\n",
       "      <td>\"Krazy Kripples\"</td>\n",
       "      <td>There you are, Jimmy!</td>\n",
       "      <td>[There, you, are,, Jimmy!]</td>\n",
       "      <td>[There, you, are, Jimmy]</td>\n",
       "      <td>Jimmy</td>\n",
       "    </tr>\n",
       "    <tr>\n",
       "      <th>35833</th>\n",
       "      <td>Mom</td>\n",
       "      <td>712</td>\n",
       "      <td>\"All About Mormons\"</td>\n",
       "      <td>Hey, it's Gary!</td>\n",
       "      <td>[Hey,, it's, Gary!]</td>\n",
       "      <td>[Hey, it's, Gary]</td>\n",
       "      <td>Gary</td>\n",
       "    </tr>\n",
       "    <tr>\n",
       "      <th>42236</th>\n",
       "      <td>Mom</td>\n",
       "      <td>907</td>\n",
       "      <td>\"Erection Day\"</td>\n",
       "      <td>Shauna honey, I think your little date is here.</td>\n",
       "      <td>[Shauna, honey,, I, think, your, little, date,...</td>\n",
       "      <td>[Shauna, honey, I, think, your, little, date, ...</td>\n",
       "      <td>Shauna</td>\n",
       "    </tr>\n",
       "    <tr>\n",
       "      <th>43314</th>\n",
       "      <td>Mom</td>\n",
       "      <td>911</td>\n",
       "      <td>\"Ginger Kids\"</td>\n",
       "      <td>Clyde? What is it, honey?</td>\n",
       "      <td>[Clyde?, What, is, it,, honey?]</td>\n",
       "      <td>[Clyde, What, is, it, honey]</td>\n",
       "      <td>Clyde</td>\n",
       "    </tr>\n",
       "    <tr>\n",
       "      <th>49521</th>\n",
       "      <td>Mom</td>\n",
       "      <td>1108</td>\n",
       "      <td>\"Le Petit Tourette\"</td>\n",
       "      <td>A-alright Thomas, maybe we should go?</td>\n",
       "      <td>[A-alright, Thomas,, maybe, we, should, go?]</td>\n",
       "      <td>[Aalright, Thomas, maybe, we, should, go]</td>\n",
       "      <td>Thomas</td>\n",
       "    </tr>\n",
       "    <tr>\n",
       "      <th>49529</th>\n",
       "      <td>Mom</td>\n",
       "      <td>1108</td>\n",
       "      <td>\"Le Petit Tourette\"</td>\n",
       "      <td>Oh, a-I'm sorry.  My... son Thomas has Tourett...</td>\n",
       "      <td>[Oh,, a-I'm, sorry., My..., son, Thomas, has, ...</td>\n",
       "      <td>[Oh, aI'm, sorry, My, son, Thomas, has, Touret...</td>\n",
       "      <td>Thomas</td>\n",
       "    </tr>\n",
       "    <tr>\n",
       "      <th>49532</th>\n",
       "      <td>Mom</td>\n",
       "      <td>1108</td>\n",
       "      <td>\"Le Petit Tourette\"</td>\n",
       "      <td>People with Tourette's can't control certain t...</td>\n",
       "      <td>[People, with, Tourette's, can't, control, cer...</td>\n",
       "      <td>[People, with, Tourette's, can't, control, cer...</td>\n",
       "      <td>People</td>\n",
       "    </tr>\n",
       "    <tr>\n",
       "      <th>49536</th>\n",
       "      <td>Mom</td>\n",
       "      <td>1108</td>\n",
       "      <td>\"Le Petit Tourette\"</td>\n",
       "      <td>It's okay, Thomas. They understand.</td>\n",
       "      <td>[It's, okay,, Thomas., They, understand.]</td>\n",
       "      <td>[It's, okay, Thomas, They, understand]</td>\n",
       "      <td>Thomas</td>\n",
       "    </tr>\n",
       "    <tr>\n",
       "      <th>65685</th>\n",
       "      <td>Mom</td>\n",
       "      <td>1607</td>\n",
       "      <td>\"Cartman Finds Love\"</td>\n",
       "      <td>Oh stop, William. There's nothing wrong with h...</td>\n",
       "      <td>[Oh, stop,, William., There's, nothing, wrong,...</td>\n",
       "      <td>[Oh, stop, William, There's, nothing, wrong, w...</td>\n",
       "      <td>William</td>\n",
       "    </tr>\n",
       "    <tr>\n",
       "      <th>68157</th>\n",
       "      <td>Mom</td>\n",
       "      <td>1704</td>\n",
       "      <td>\"Goth Kids 3</td>\n",
       "      <td>Michael! Michael!</td>\n",
       "      <td>[Michael!, Michael!]</td>\n",
       "      <td>[Michael, Michael]</td>\n",
       "      <td>Michael</td>\n",
       "    </tr>\n",
       "    <tr>\n",
       "      <th>68157</th>\n",
       "      <td>Mom</td>\n",
       "      <td>1704</td>\n",
       "      <td>\"Goth Kids 3</td>\n",
       "      <td>Michael! Michael!</td>\n",
       "      <td>[Michael!, Michael!]</td>\n",
       "      <td>[Michael, Michael]</td>\n",
       "      <td>Michael</td>\n",
       "    </tr>\n",
       "    <tr>\n",
       "      <th>72602</th>\n",
       "      <td>Mom</td>\n",
       "      <td>1902</td>\n",
       "      <td>\"Where My Country Gone?\"</td>\n",
       "      <td>That's enough, Thomas!</td>\n",
       "      <td>[That's, enough,, Thomas!]</td>\n",
       "      <td>[That's, enough, Thomas]</td>\n",
       "      <td>Thomas</td>\n",
       "    </tr>\n",
       "    <tr>\n",
       "      <th>72639</th>\n",
       "      <td>Mom</td>\n",
       "      <td>1902</td>\n",
       "      <td>\"Where My Country Gone?\"</td>\n",
       "      <td>Oh look at them, Thomas. I think they really l...</td>\n",
       "      <td>[Oh, look, at, them,, Thomas., I, think, they,...</td>\n",
       "      <td>[Oh, look, at, them, Thomas, I, think, they, r...</td>\n",
       "      <td>Thomas</td>\n",
       "    </tr>\n",
       "    <tr>\n",
       "      <th>72644</th>\n",
       "      <td>Mom</td>\n",
       "      <td>1902</td>\n",
       "      <td>\"Where My Country Gone?\"</td>\n",
       "      <td>What is it, Thomas?</td>\n",
       "      <td>[What, is, it,, Thomas?]</td>\n",
       "      <td>[What, is, it, Thomas]</td>\n",
       "      <td>Thomas</td>\n",
       "    </tr>\n",
       "    <tr>\n",
       "      <th>73361</th>\n",
       "      <td>Mom</td>\n",
       "      <td>1906</td>\n",
       "      <td>\"Tweek x Craig\"</td>\n",
       "      <td>We're so proud of you, Tweek.</td>\n",
       "      <td>[We're, so, proud, of, you,, Tweek.]</td>\n",
       "      <td>[We're, so, proud, of, you, Tweek]</td>\n",
       "      <td>Tweek</td>\n",
       "    </tr>\n",
       "    <tr>\n",
       "      <th>73420</th>\n",
       "      <td>Mom</td>\n",
       "      <td>1906</td>\n",
       "      <td>\"Tweek x Craig\"</td>\n",
       "      <td>Awww, hi Craig.</td>\n",
       "      <td>[Awww,, hi, Craig.]</td>\n",
       "      <td>[Awww, hi, Craig]</td>\n",
       "      <td>Craig</td>\n",
       "    </tr>\n",
       "    <tr>\n",
       "      <th>82891</th>\n",
       "      <td>Mom</td>\n",
       "      <td>2308</td>\n",
       "      <td>\"Turd Burglars\"</td>\n",
       "      <td>Shut up, Theresa!</td>\n",
       "      <td>[Shut, up,, Theresa!]</td>\n",
       "      <td>[Shut, up, Theresa]</td>\n",
       "      <td>Theresa</td>\n",
       "    </tr>\n",
       "  </tbody>\n",
       "</table>\n",
       "</div>"
      ],
      "text/plain": [
       "      name  ep_szn                      title  \\\n",
       "18798  Mom     406     \"Cartman Joins NAMBLA\"   \n",
       "18800  Mom     406     \"Cartman Joins NAMBLA\"   \n",
       "33034  Mom     702           \"Krazy Kripples\"   \n",
       "35833  Mom     712        \"All About Mormons\"   \n",
       "42236  Mom     907             \"Erection Day\"   \n",
       "43314  Mom     911              \"Ginger Kids\"   \n",
       "49521  Mom    1108        \"Le Petit Tourette\"   \n",
       "49529  Mom    1108        \"Le Petit Tourette\"   \n",
       "49532  Mom    1108        \"Le Petit Tourette\"   \n",
       "49536  Mom    1108        \"Le Petit Tourette\"   \n",
       "65685  Mom    1607       \"Cartman Finds Love\"   \n",
       "68157  Mom    1704               \"Goth Kids 3   \n",
       "68157  Mom    1704               \"Goth Kids 3   \n",
       "72602  Mom    1902   \"Where My Country Gone?\"   \n",
       "72639  Mom    1902   \"Where My Country Gone?\"   \n",
       "72644  Mom    1902   \"Where My Country Gone?\"   \n",
       "73361  Mom    1906            \"Tweek x Craig\"   \n",
       "73420  Mom    1906            \"Tweek x Craig\"   \n",
       "82891  Mom    2308            \"Turd Burglars\"   \n",
       "\n",
       "                                                   lines  \\\n",
       "18798  You can't eat, Kenny. We have to save food for...   \n",
       "18800      Kenny, you have to change the baby's diapers!   \n",
       "33034                              There you are, Jimmy!   \n",
       "35833                                    Hey, it's Gary!   \n",
       "42236    Shauna honey, I think your little date is here.   \n",
       "43314                         Clyde? What is it, honey?    \n",
       "49521              A-alright Thomas, maybe we should go?   \n",
       "49529  Oh, a-I'm sorry.  My... son Thomas has Tourett...   \n",
       "49532  People with Tourette's can't control certain t...   \n",
       "49536                It's okay, Thomas. They understand.   \n",
       "65685  Oh stop, William. There's nothing wrong with h...   \n",
       "68157                                 Michael! Michael!    \n",
       "68157                                 Michael! Michael!    \n",
       "72602                             That's enough, Thomas!   \n",
       "72639  Oh look at them, Thomas. I think they really l...   \n",
       "72644                                What is it, Thomas?   \n",
       "73361                      We're so proud of you, Tweek.   \n",
       "73420                                    Awww, hi Craig.   \n",
       "82891                                 Shut up, Theresa!    \n",
       "\n",
       "                                            string_split  \\\n",
       "18798  [You, can't, eat,, Kenny., We, have, to, save,...   \n",
       "18800  [Kenny,, you, have, to, change, the, baby's, d...   \n",
       "33034                         [There, you, are,, Jimmy!]   \n",
       "35833                                [Hey,, it's, Gary!]   \n",
       "42236  [Shauna, honey,, I, think, your, little, date,...   \n",
       "43314                    [Clyde?, What, is, it,, honey?]   \n",
       "49521       [A-alright, Thomas,, maybe, we, should, go?]   \n",
       "49529  [Oh,, a-I'm, sorry., My..., son, Thomas, has, ...   \n",
       "49532  [People, with, Tourette's, can't, control, cer...   \n",
       "49536          [It's, okay,, Thomas., They, understand.]   \n",
       "65685  [Oh, stop,, William., There's, nothing, wrong,...   \n",
       "68157                               [Michael!, Michael!]   \n",
       "68157                               [Michael!, Michael!]   \n",
       "72602                         [That's, enough,, Thomas!]   \n",
       "72639  [Oh, look, at, them,, Thomas., I, think, they,...   \n",
       "72644                           [What, is, it,, Thomas?]   \n",
       "73361               [We're, so, proud, of, you,, Tweek.]   \n",
       "73420                                [Awww,, hi, Craig.]   \n",
       "82891                              [Shut, up,, Theresa!]   \n",
       "\n",
       "                                                no_punct  matches  \n",
       "18798  [You, can't, eat, Kenny, We, have, to, save, f...    Kenny  \n",
       "18800  [Kenny, you, have, to, change, the, baby's, di...    Kenny  \n",
       "33034                           [There, you, are, Jimmy]    Jimmy  \n",
       "35833                                  [Hey, it's, Gary]     Gary  \n",
       "42236  [Shauna, honey, I, think, your, little, date, ...   Shauna  \n",
       "43314                       [Clyde, What, is, it, honey]    Clyde  \n",
       "49521          [Aalright, Thomas, maybe, we, should, go]   Thomas  \n",
       "49529  [Oh, aI'm, sorry, My, son, Thomas, has, Touret...   Thomas  \n",
       "49532  [People, with, Tourette's, can't, control, cer...   People  \n",
       "49536             [It's, okay, Thomas, They, understand]   Thomas  \n",
       "65685  [Oh, stop, William, There's, nothing, wrong, w...  William  \n",
       "68157                                 [Michael, Michael]  Michael  \n",
       "68157                                 [Michael, Michael]  Michael  \n",
       "72602                           [That's, enough, Thomas]   Thomas  \n",
       "72639  [Oh, look, at, them, Thomas, I, think, they, r...   Thomas  \n",
       "72644                             [What, is, it, Thomas]   Thomas  \n",
       "73361                 [We're, so, proud, of, you, Tweek]    Tweek  \n",
       "73420                                  [Awww, hi, Craig]    Craig  \n",
       "82891                                [Shut, up, Theresa]  Theresa  "
      ]
     },
     "execution_count": 53,
     "metadata": {},
     "output_type": "execute_result"
    }
   ],
   "source": [
    "filtered[filtered.name == \"Mom\"]"
   ]
  },
  {
   "cell_type": "code",
   "execution_count": 57,
   "id": "8c837b9c-d8c4-4d74-a106-e832f0df038d",
   "metadata": {},
   "outputs": [
    {
     "data": {
      "text/html": [
       "<div>\n",
       "<style scoped>\n",
       "    .dataframe tbody tr th:only-of-type {\n",
       "        vertical-align: middle;\n",
       "    }\n",
       "\n",
       "    .dataframe tbody tr th {\n",
       "        vertical-align: top;\n",
       "    }\n",
       "\n",
       "    .dataframe thead th {\n",
       "        text-align: right;\n",
       "    }\n",
       "</style>\n",
       "<table border=\"1\" class=\"dataframe\">\n",
       "  <thead>\n",
       "    <tr style=\"text-align: right;\">\n",
       "      <th></th>\n",
       "      <th>name</th>\n",
       "      <th>ep_szn</th>\n",
       "      <th>title</th>\n",
       "      <th>lines</th>\n",
       "      <th>string_split</th>\n",
       "      <th>no_punct</th>\n",
       "    </tr>\n",
       "  </thead>\n",
       "  <tbody>\n",
       "    <tr>\n",
       "      <th>22139</th>\n",
       "      <td>Eric</td>\n",
       "      <td>415</td>\n",
       "      <td>\"Fat Camp\"</td>\n",
       "      <td>Aw, damnit!</td>\n",
       "      <td>[Aw,, damnit!]</td>\n",
       "      <td>[Aw, damnit]</td>\n",
       "    </tr>\n",
       "  </tbody>\n",
       "</table>\n",
       "</div>"
      ],
      "text/plain": [
       "       name  ep_szn        title         lines    string_split      no_punct\n",
       "22139  Eric     415   \"Fat Camp\"   Aw, damnit!  [Aw,, damnit!]  [Aw, damnit]"
      ]
     },
     "execution_count": 57,
     "metadata": {},
     "output_type": "execute_result"
    }
   ],
   "source": [
    "df[df.name == \"Eric\"]"
   ]
  },
  {
   "cell_type": "code",
   "execution_count": 55,
   "id": "fcf1c845-c6bb-450c-a4b3-664db8331bf7",
   "metadata": {},
   "outputs": [
    {
     "data": {
      "text/html": [
       "<div>\n",
       "<style scoped>\n",
       "    .dataframe tbody tr th:only-of-type {\n",
       "        vertical-align: middle;\n",
       "    }\n",
       "\n",
       "    .dataframe tbody tr th {\n",
       "        vertical-align: top;\n",
       "    }\n",
       "\n",
       "    .dataframe thead th {\n",
       "        text-align: right;\n",
       "    }\n",
       "</style>\n",
       "<table border=\"1\" class=\"dataframe\">\n",
       "  <thead>\n",
       "    <tr style=\"text-align: right;\">\n",
       "      <th></th>\n",
       "      <th>name</th>\n",
       "      <th>ep_szn</th>\n",
       "      <th>title</th>\n",
       "      <th>lines</th>\n",
       "      <th>string_split</th>\n",
       "      <th>no_punct</th>\n",
       "      <th>matches</th>\n",
       "    </tr>\n",
       "  </thead>\n",
       "  <tbody>\n",
       "    <tr>\n",
       "      <th>34431</th>\n",
       "      <td>Native American chief</td>\n",
       "      <td>707</td>\n",
       "      <td>\"Red Man's Greed\"</td>\n",
       "      <td>Welcome to the Three Feathers Casino. I'm your...</td>\n",
       "      <td>[Welcome, to, the, Three, Feathers, Casino., I...</td>\n",
       "      <td>[Welcome, to, the, Three, Feathers, Casino, I'...</td>\n",
       "      <td>Chief</td>\n",
       "    </tr>\n",
       "    <tr>\n",
       "      <th>45110</th>\n",
       "      <td>American male 1</td>\n",
       "      <td>1004</td>\n",
       "      <td>\"Cartoon Wars Part II\"</td>\n",
       "      <td>Hello, I am American.</td>\n",
       "      <td>[Hello,, I, am, American.]</td>\n",
       "      <td>[Hello, I, am, American]</td>\n",
       "      <td>American</td>\n",
       "    </tr>\n",
       "    <tr>\n",
       "      <th>45111</th>\n",
       "      <td>American male 2</td>\n",
       "      <td>1004</td>\n",
       "      <td>\"Cartoon Wars Part II\"</td>\n",
       "      <td>I'm American too.</td>\n",
       "      <td>[I'm, American, too.]</td>\n",
       "      <td>[I'm, American, too]</td>\n",
       "      <td>American</td>\n",
       "    </tr>\n",
       "    <tr>\n",
       "      <th>45115</th>\n",
       "      <td>American Female</td>\n",
       "      <td>1004</td>\n",
       "      <td>\"Cartoon Wars Part II\"</td>\n",
       "      <td>I'm American. I'm pregnant with a baby, but I...</td>\n",
       "      <td>[I'm, American., I'm, pregnant, with, a, baby,...</td>\n",
       "      <td>[I'm, American, I'm, pregnant, with, a, baby, ...</td>\n",
       "      <td>American</td>\n",
       "    </tr>\n",
       "    <tr>\n",
       "      <th>72508</th>\n",
       "      <td>Three students dressed in Native American garb</td>\n",
       "      <td>1902</td>\n",
       "      <td>\"Where My Country Gone?\"</td>\n",
       "      <td>We are the Hopewell and Abenaki, first settler...</td>\n",
       "      <td>[We, are, the, Hopewell, and, Abenaki,, first,...</td>\n",
       "      <td>[We, are, the, Hopewell, and, Abenaki, first, ...</td>\n",
       "      <td>Canadian</td>\n",
       "    </tr>\n",
       "  </tbody>\n",
       "</table>\n",
       "</div>"
      ],
      "text/plain": [
       "                                                 name  ep_szn  \\\n",
       "34431                           Native American chief     707   \n",
       "45110                                 American male 1    1004   \n",
       "45111                                 American male 2    1004   \n",
       "45115                                 American Female    1004   \n",
       "72508  Three students dressed in Native American garb    1902   \n",
       "\n",
       "                           title  \\\n",
       "34431          \"Red Man's Greed\"   \n",
       "45110     \"Cartoon Wars Part II\"   \n",
       "45111     \"Cartoon Wars Part II\"   \n",
       "45115     \"Cartoon Wars Part II\"   \n",
       "72508   \"Where My Country Gone?\"   \n",
       "\n",
       "                                                   lines  \\\n",
       "34431  Welcome to the Three Feathers Casino. I'm your...   \n",
       "45110                              Hello, I am American.   \n",
       "45111                                  I'm American too.   \n",
       "45115   I'm American. I'm pregnant with a baby, but I...   \n",
       "72508  We are the Hopewell and Abenaki, first settler...   \n",
       "\n",
       "                                            string_split  \\\n",
       "34431  [Welcome, to, the, Three, Feathers, Casino., I...   \n",
       "45110                         [Hello,, I, am, American.]   \n",
       "45111                              [I'm, American, too.]   \n",
       "45115  [I'm, American., I'm, pregnant, with, a, baby,...   \n",
       "72508  [We, are, the, Hopewell, and, Abenaki,, first,...   \n",
       "\n",
       "                                                no_punct   matches  \n",
       "34431  [Welcome, to, the, Three, Feathers, Casino, I'...     Chief  \n",
       "45110                           [Hello, I, am, American]  American  \n",
       "45111                               [I'm, American, too]  American  \n",
       "45115  [I'm, American, I'm, pregnant, with, a, baby, ...  American  \n",
       "72508  [We, are, the, Hopewell, and, Abenaki, first, ...  Canadian  "
      ]
     },
     "execution_count": 55,
     "metadata": {},
     "output_type": "execute_result"
    }
   ],
   "source": [
    "filtered[filtered.name.str.contains(\"American\")]"
   ]
  },
  {
   "cell_type": "code",
   "execution_count": 43,
   "id": "a48632c1-c915-4ccc-898f-76b30625d7f7",
   "metadata": {},
   "outputs": [
    {
     "data": {
      "text/plain": [
       "matches\n",
       "Kyle         2140\n",
       "God          1797\n",
       "All          1533\n",
       "Butters      1429\n",
       "Cartman      1356\n",
       "Stan         1324\n",
       "Dude         1193\n",
       "Eric         1163\n",
       "Kenny        1043\n",
       "Jesus         816\n",
       "Dad           619\n",
       "Mom           525\n",
       "Randy         464\n",
       "Chef          399\n",
       "Right         348\n",
       "Garrison      345\n",
       "Wendy         340\n",
       "President     321\n",
       "Ike           318\n",
       "Tolkien       317\n",
       "Jimmy         307\n",
       "Tom           306\n",
       "Everyone      290\n",
       "Phillip       272\n",
       "Terrance      270\n",
       "People        263\n",
       "Clyde         254\n",
       "Craig         249\n",
       "Stanley       249\n",
       "woman         240\n",
       "Sharon        238\n",
       "Timmy         220\n",
       "Tweek         202\n",
       "Hat           189\n",
       "Scott         185\n",
       "TV            182\n",
       "Mackey        168\n",
       "Heidi         165\n",
       "Man           162\n",
       "American      162\n",
       "Red           152\n",
       "Boys          141\n",
       "Principal     138\n",
       "Mayor         133\n",
       "New           126\n",
       "Canadian      125\n",
       "Bebe          124\n",
       "Shelly        123\n",
       "Ned           122\n",
       "Satan         115\n",
       "Name: count, dtype: int64"
      ]
     },
     "execution_count": 43,
     "metadata": {},
     "output_type": "execute_result"
    }
   ],
   "source": [
    "filtered.matches.value_counts().nlargest(50)"
   ]
  },
  {
   "cell_type": "code",
   "execution_count": 24,
   "id": "4384b877-cc0e-48c7-9201-f4a0e8463a4f",
   "metadata": {},
   "outputs": [
    {
     "data": {
      "text/html": [
       "<div>\n",
       "<style scoped>\n",
       "    .dataframe tbody tr th:only-of-type {\n",
       "        vertical-align: middle;\n",
       "    }\n",
       "\n",
       "    .dataframe tbody tr th {\n",
       "        vertical-align: top;\n",
       "    }\n",
       "\n",
       "    .dataframe thead th {\n",
       "        text-align: right;\n",
       "    }\n",
       "</style>\n",
       "<table border=\"1\" class=\"dataframe\">\n",
       "  <thead>\n",
       "    <tr style=\"text-align: right;\">\n",
       "      <th></th>\n",
       "      <th>name</th>\n",
       "      <th>ep_szn</th>\n",
       "      <th>title</th>\n",
       "      <th>lines</th>\n",
       "      <th>string_split</th>\n",
       "      <th>no_punct</th>\n",
       "      <th>matches</th>\n",
       "    </tr>\n",
       "  </thead>\n",
       "  <tbody>\n",
       "    <tr>\n",
       "      <th>20680</th>\n",
       "      <td>Satan</td>\n",
       "      <td>411</td>\n",
       "      <td>\"Probably\"</td>\n",
       "      <td>God?? I can't do that. I haven't spoken to Go...</td>\n",
       "      <td>[God??, I, can't, do, that., I, haven't, spoke...</td>\n",
       "      <td>[God, I, can't, do, that, I, haven't, spoken, ...</td>\n",
       "      <td>God</td>\n",
       "    </tr>\n",
       "    <tr>\n",
       "      <th>20680</th>\n",
       "      <td>Satan</td>\n",
       "      <td>411</td>\n",
       "      <td>\"Probably\"</td>\n",
       "      <td>God?? I can't do that. I haven't spoken to Go...</td>\n",
       "      <td>[God??, I, can't, do, that., I, haven't, spoke...</td>\n",
       "      <td>[God, I, can't, do, that, I, haven't, spoken, ...</td>\n",
       "      <td>God</td>\n",
       "    </tr>\n",
       "  </tbody>\n",
       "</table>\n",
       "</div>"
      ],
      "text/plain": [
       "        name  ep_szn        title  \\\n",
       "20680  Satan     411   \"Probably\"   \n",
       "20680  Satan     411   \"Probably\"   \n",
       "\n",
       "                                                   lines  \\\n",
       "20680   God?? I can't do that. I haven't spoken to Go...   \n",
       "20680   God?? I can't do that. I haven't spoken to Go...   \n",
       "\n",
       "                                            string_split  \\\n",
       "20680  [God??, I, can't, do, that., I, haven't, spoke...   \n",
       "20680  [God??, I, can't, do, that., I, haven't, spoke...   \n",
       "\n",
       "                                                no_punct matches  \n",
       "20680  [God, I, can't, do, that, I, haven't, spoken, ...     God  \n",
       "20680  [God, I, can't, do, that, I, haven't, spoken, ...     God  "
      ]
     },
     "execution_count": 24,
     "metadata": {},
     "output_type": "execute_result"
    }
   ],
   "source": [
    "# We have duplicate indexes which is annoying\n",
    "\n",
    "filtered[filtered.lines == \" God?? I can't do that. I haven't spoken to God in like, 5000 years.\"]"
   ]
  },
  {
   "cell_type": "code",
   "execution_count": 25,
   "id": "4ab23612-debe-48fe-82ab-d8c7ab41294b",
   "metadata": {},
   "outputs": [
    {
     "data": {
      "text/html": [
       "<div>\n",
       "<style scoped>\n",
       "    .dataframe tbody tr th:only-of-type {\n",
       "        vertical-align: middle;\n",
       "    }\n",
       "\n",
       "    .dataframe tbody tr th {\n",
       "        vertical-align: top;\n",
       "    }\n",
       "\n",
       "    .dataframe thead th {\n",
       "        text-align: right;\n",
       "    }\n",
       "</style>\n",
       "<table border=\"1\" class=\"dataframe\">\n",
       "  <thead>\n",
       "    <tr style=\"text-align: right;\">\n",
       "      <th></th>\n",
       "      <th>lines</th>\n",
       "      <th>matches</th>\n",
       "    </tr>\n",
       "  </thead>\n",
       "  <tbody>\n",
       "    <tr>\n",
       "      <th>3</th>\n",
       "      <td>Ike, you can't come to school with me.</td>\n",
       "      <td>Ike</td>\n",
       "    </tr>\n",
       "    <tr>\n",
       "      <th>5</th>\n",
       "      <td>Dude, don't call my brother a dildo!</td>\n",
       "      <td>Dude</td>\n",
       "    </tr>\n",
       "    <tr>\n",
       "      <th>7</th>\n",
       "      <td>Well, I don't know... and I'll bet Cartman doe...</td>\n",
       "      <td>Cartman</td>\n",
       "    </tr>\n",
       "    <tr>\n",
       "      <th>11</th>\n",
       "      <td>What's a dildo, Kenny?</td>\n",
       "      <td>Kenny</td>\n",
       "    </tr>\n",
       "    <tr>\n",
       "      <th>14</th>\n",
       "      <td>Dude, that kicks ass!</td>\n",
       "      <td>Dude</td>\n",
       "    </tr>\n",
       "  </tbody>\n",
       "</table>\n",
       "</div>"
      ],
      "text/plain": [
       "                                                lines  matches\n",
       "3             Ike, you can't come to school with me.       Ike\n",
       "5                Dude, don't call my brother a dildo!     Dude\n",
       "7   Well, I don't know... and I'll bet Cartman doe...  Cartman\n",
       "11                             What's a dildo, Kenny?    Kenny\n",
       "14                              Dude, that kicks ass!     Dude"
      ]
     },
     "execution_count": 25,
     "metadata": {},
     "output_type": "execute_result"
    }
   ],
   "source": [
    "# Let's check it out\n",
    "# Looks like we should reset our index!\n",
    "\n",
    "filtered[['lines', 'matches']].head()"
   ]
  },
  {
   "cell_type": "code",
   "execution_count": 26,
   "id": "6356d463-2475-4c5f-bca7-4b3f93940a55",
   "metadata": {},
   "outputs": [
    {
     "data": {
      "text/html": [
       "<div>\n",
       "<style scoped>\n",
       "    .dataframe tbody tr th:only-of-type {\n",
       "        vertical-align: middle;\n",
       "    }\n",
       "\n",
       "    .dataframe tbody tr th {\n",
       "        vertical-align: top;\n",
       "    }\n",
       "\n",
       "    .dataframe thead th {\n",
       "        text-align: right;\n",
       "    }\n",
       "</style>\n",
       "<table border=\"1\" class=\"dataframe\">\n",
       "  <thead>\n",
       "    <tr style=\"text-align: right;\">\n",
       "      <th></th>\n",
       "      <th>name</th>\n",
       "      <th>ep_szn</th>\n",
       "      <th>title</th>\n",
       "      <th>lines</th>\n",
       "      <th>string_split</th>\n",
       "      <th>no_punct</th>\n",
       "      <th>matches</th>\n",
       "    </tr>\n",
       "  </thead>\n",
       "  <tbody>\n",
       "    <tr>\n",
       "      <th>20680</th>\n",
       "      <td>Satan</td>\n",
       "      <td>411</td>\n",
       "      <td>\"Probably\"</td>\n",
       "      <td>God?? I can't do that. I haven't spoken to Go...</td>\n",
       "      <td>[God??, I, can't, do, that., I, haven't, spoke...</td>\n",
       "      <td>[God, I, can't, do, that, I, haven't, spoken, ...</td>\n",
       "      <td>God</td>\n",
       "    </tr>\n",
       "    <tr>\n",
       "      <th>20680</th>\n",
       "      <td>Satan</td>\n",
       "      <td>411</td>\n",
       "      <td>\"Probably\"</td>\n",
       "      <td>God?? I can't do that. I haven't spoken to Go...</td>\n",
       "      <td>[God??, I, can't, do, that., I, haven't, spoke...</td>\n",
       "      <td>[God, I, can't, do, that, I, haven't, spoken, ...</td>\n",
       "      <td>God</td>\n",
       "    </tr>\n",
       "  </tbody>\n",
       "</table>\n",
       "</div>"
      ],
      "text/plain": [
       "        name  ep_szn        title  \\\n",
       "20680  Satan     411   \"Probably\"   \n",
       "20680  Satan     411   \"Probably\"   \n",
       "\n",
       "                                                   lines  \\\n",
       "20680   God?? I can't do that. I haven't spoken to Go...   \n",
       "20680   God?? I can't do that. I haven't spoken to Go...   \n",
       "\n",
       "                                            string_split  \\\n",
       "20680  [God??, I, can't, do, that., I, haven't, spoke...   \n",
       "20680  [God??, I, can't, do, that., I, haven't, spoke...   \n",
       "\n",
       "                                                no_punct matches  \n",
       "20680  [God, I, can't, do, that, I, haven't, spoken, ...     God  \n",
       "20680  [God, I, can't, do, that, I, haven't, spoken, ...     God  "
      ]
     },
     "execution_count": 26,
     "metadata": {},
     "output_type": "execute_result"
    }
   ],
   "source": [
    "filtered[filtered.lines == \" God?? I can't do that. I haven't spoken to God in like, 5000 years.\"]"
   ]
  },
  {
   "cell_type": "code",
   "execution_count": 27,
   "id": "b9755419-47bc-410f-bbb1-5ca136e36447",
   "metadata": {},
   "outputs": [],
   "source": [
    "# Let's reset our index\n",
    "\n",
    "filtered = filtered.reset_index(drop = True)"
   ]
  },
  {
   "cell_type": "code",
   "execution_count": 28,
   "id": "8fd37fdf-9ac1-4525-a8a1-0dc1d94a9dec",
   "metadata": {},
   "outputs": [
    {
     "data": {
      "text/html": [
       "<div>\n",
       "<style scoped>\n",
       "    .dataframe tbody tr th:only-of-type {\n",
       "        vertical-align: middle;\n",
       "    }\n",
       "\n",
       "    .dataframe tbody tr th {\n",
       "        vertical-align: top;\n",
       "    }\n",
       "\n",
       "    .dataframe thead th {\n",
       "        text-align: right;\n",
       "    }\n",
       "</style>\n",
       "<table border=\"1\" class=\"dataframe\">\n",
       "  <thead>\n",
       "    <tr style=\"text-align: right;\">\n",
       "      <th></th>\n",
       "      <th>name</th>\n",
       "      <th>ep_szn</th>\n",
       "      <th>title</th>\n",
       "      <th>lines</th>\n",
       "      <th>string_split</th>\n",
       "      <th>no_punct</th>\n",
       "      <th>matches</th>\n",
       "    </tr>\n",
       "  </thead>\n",
       "  <tbody>\n",
       "    <tr>\n",
       "      <th>7643</th>\n",
       "      <td>Satan</td>\n",
       "      <td>411</td>\n",
       "      <td>\"Probably\"</td>\n",
       "      <td>God?? I can't do that. I haven't spoken to Go...</td>\n",
       "      <td>[God??, I, can't, do, that., I, haven't, spoke...</td>\n",
       "      <td>[God, I, can't, do, that, I, haven't, spoken, ...</td>\n",
       "      <td>God</td>\n",
       "    </tr>\n",
       "    <tr>\n",
       "      <th>7644</th>\n",
       "      <td>Satan</td>\n",
       "      <td>411</td>\n",
       "      <td>\"Probably\"</td>\n",
       "      <td>God?? I can't do that. I haven't spoken to Go...</td>\n",
       "      <td>[God??, I, can't, do, that., I, haven't, spoke...</td>\n",
       "      <td>[God, I, can't, do, that, I, haven't, spoken, ...</td>\n",
       "      <td>God</td>\n",
       "    </tr>\n",
       "  </tbody>\n",
       "</table>\n",
       "</div>"
      ],
      "text/plain": [
       "       name  ep_szn        title  \\\n",
       "7643  Satan     411   \"Probably\"   \n",
       "7644  Satan     411   \"Probably\"   \n",
       "\n",
       "                                                  lines  \\\n",
       "7643   God?? I can't do that. I haven't spoken to Go...   \n",
       "7644   God?? I can't do that. I haven't spoken to Go...   \n",
       "\n",
       "                                           string_split  \\\n",
       "7643  [God??, I, can't, do, that., I, haven't, spoke...   \n",
       "7644  [God??, I, can't, do, that., I, haven't, spoke...   \n",
       "\n",
       "                                               no_punct matches  \n",
       "7643  [God, I, can't, do, that, I, haven't, spoken, ...     God  \n",
       "7644  [God, I, can't, do, that, I, haven't, spoken, ...     God  "
      ]
     },
     "execution_count": 28,
     "metadata": {},
     "output_type": "execute_result"
    }
   ],
   "source": [
    "# Now we don't have duplicate indexes!\n",
    "\n",
    "filtered[filtered.lines == \" God?? I can't do that. I haven't spoken to God in like, 5000 years.\"]"
   ]
  },
  {
   "cell_type": "markdown",
   "id": "a370be97-1c90-4f78-bf85-9b7ce561f8d4",
   "metadata": {},
   "source": [
    "# Nearly done...\n",
    "\n",
    "Now all we need to do in order to make this dataset network-ready is to compute number of times each character mentions another character."
   ]
  },
  {
   "cell_type": "code",
   "execution_count": 29,
   "id": "ee53cc27-96fe-4f86-9b66-b15524df0004",
   "metadata": {},
   "outputs": [],
   "source": [
    "counts = filtered[['name', 'matches']].value_counts().reset_index()"
   ]
  },
  {
   "cell_type": "code",
   "execution_count": 58,
   "id": "68bbf234-d8f9-470b-9fe4-08bb20a8703d",
   "metadata": {},
   "outputs": [
    {
     "data": {
      "text/html": [
       "<div>\n",
       "<style scoped>\n",
       "    .dataframe tbody tr th:only-of-type {\n",
       "        vertical-align: middle;\n",
       "    }\n",
       "\n",
       "    .dataframe tbody tr th {\n",
       "        vertical-align: top;\n",
       "    }\n",
       "\n",
       "    .dataframe thead th {\n",
       "        text-align: right;\n",
       "    }\n",
       "</style>\n",
       "<table border=\"1\" class=\"dataframe\">\n",
       "  <thead>\n",
       "    <tr style=\"text-align: right;\">\n",
       "      <th></th>\n",
       "      <th>name</th>\n",
       "      <th>matches</th>\n",
       "      <th>count</th>\n",
       "    </tr>\n",
       "  </thead>\n",
       "  <tbody>\n",
       "    <tr>\n",
       "      <th>0</th>\n",
       "      <td>Cartman</td>\n",
       "      <td>Kyle</td>\n",
       "      <td>1011</td>\n",
       "    </tr>\n",
       "    <tr>\n",
       "      <th>1</th>\n",
       "      <td>Cartman</td>\n",
       "      <td>Butters</td>\n",
       "      <td>567</td>\n",
       "    </tr>\n",
       "    <tr>\n",
       "      <th>2</th>\n",
       "      <td>Kyle</td>\n",
       "      <td>Cartman</td>\n",
       "      <td>564</td>\n",
       "    </tr>\n",
       "    <tr>\n",
       "      <th>3</th>\n",
       "      <td>Stan</td>\n",
       "      <td>Dude</td>\n",
       "      <td>495</td>\n",
       "    </tr>\n",
       "    <tr>\n",
       "      <th>4</th>\n",
       "      <td>Cartman</td>\n",
       "      <td>Kenny</td>\n",
       "      <td>401</td>\n",
       "    </tr>\n",
       "    <tr>\n",
       "      <th>...</th>\n",
       "      <td>...</td>\n",
       "      <td>...</td>\n",
       "      <td>...</td>\n",
       "    </tr>\n",
       "    <tr>\n",
       "      <th>10132</th>\n",
       "      <td>Memberberry 4</td>\n",
       "      <td>Mickey</td>\n",
       "      <td>1</td>\n",
       "    </tr>\n",
       "    <tr>\n",
       "      <th>10133</th>\n",
       "      <td>Memberberry 3</td>\n",
       "      <td>Death</td>\n",
       "      <td>1</td>\n",
       "    </tr>\n",
       "    <tr>\n",
       "      <th>10134</th>\n",
       "      <td>Memberberry 2</td>\n",
       "      <td>Tubbs</td>\n",
       "      <td>1</td>\n",
       "    </tr>\n",
       "    <tr>\n",
       "      <th>10135</th>\n",
       "      <td>Memberberry 1</td>\n",
       "      <td>Member</td>\n",
       "      <td>1</td>\n",
       "    </tr>\n",
       "    <tr>\n",
       "      <th>10136</th>\n",
       "      <td>woman</td>\n",
       "      <td>God</td>\n",
       "      <td>1</td>\n",
       "    </tr>\n",
       "  </tbody>\n",
       "</table>\n",
       "<p>10137 rows × 3 columns</p>\n",
       "</div>"
      ],
      "text/plain": [
       "                name  matches  count\n",
       "0            Cartman     Kyle   1011\n",
       "1            Cartman  Butters    567\n",
       "2               Kyle  Cartman    564\n",
       "3               Stan     Dude    495\n",
       "4            Cartman    Kenny    401\n",
       "...              ...      ...    ...\n",
       "10132  Memberberry 4   Mickey      1\n",
       "10133  Memberberry 3    Death      1\n",
       "10134  Memberberry 2    Tubbs      1\n",
       "10135  Memberberry 1   Member      1\n",
       "10136          woman      God      1\n",
       "\n",
       "[10137 rows x 3 columns]"
      ]
     },
     "execution_count": 58,
     "metadata": {},
     "output_type": "execute_result"
    }
   ],
   "source": [
    "counts"
   ]
  },
  {
   "cell_type": "code",
   "execution_count": 62,
   "id": "c3e57f7e-02d2-4d0c-adcf-f5c970c25e42",
   "metadata": {},
   "outputs": [],
   "source": [
    "pivot_table = counts.pivot_table(index = 'name', columns = 'matches', values = 'count', fill_value = 0)"
   ]
  },
  {
   "cell_type": "code",
   "execution_count": 63,
   "id": "cd830727-402d-420d-bb20-c469e4fabd39",
   "metadata": {},
   "outputs": [
    {
     "data": {
      "text/html": [
       "<div>\n",
       "<style scoped>\n",
       "    .dataframe tbody tr th:only-of-type {\n",
       "        vertical-align: middle;\n",
       "    }\n",
       "\n",
       "    .dataframe tbody tr th {\n",
       "        vertical-align: top;\n",
       "    }\n",
       "\n",
       "    .dataframe thead th {\n",
       "        text-align: right;\n",
       "    }\n",
       "</style>\n",
       "<table border=\"1\" class=\"dataframe\">\n",
       "  <thead>\n",
       "    <tr style=\"text-align: right;\">\n",
       "      <th>matches</th>\n",
       "      <th>Adam</th>\n",
       "      <th>Adams</th>\n",
       "      <th>Adolf</th>\n",
       "      <th>Adults</th>\n",
       "      <th>Agent</th>\n",
       "      <th>Aguilar</th>\n",
       "      <th>Al</th>\n",
       "      <th>Alan</th>\n",
       "      <th>Alarm</th>\n",
       "      <th>Alec</th>\n",
       "      <th>...</th>\n",
       "      <th>Yolanda</th>\n",
       "      <th>YourMomsTits</th>\n",
       "      <th>Zazul</th>\n",
       "      <th>Zeus</th>\n",
       "      <th>Zombie</th>\n",
       "      <th>Zytar</th>\n",
       "      <th>driver</th>\n",
       "      <th>instructor</th>\n",
       "      <th>woman</th>\n",
       "      <th>worker</th>\n",
       "    </tr>\n",
       "    <tr>\n",
       "      <th>name</th>\n",
       "      <th></th>\n",
       "      <th></th>\n",
       "      <th></th>\n",
       "      <th></th>\n",
       "      <th></th>\n",
       "      <th></th>\n",
       "      <th></th>\n",
       "      <th></th>\n",
       "      <th></th>\n",
       "      <th></th>\n",
       "      <th></th>\n",
       "      <th></th>\n",
       "      <th></th>\n",
       "      <th></th>\n",
       "      <th></th>\n",
       "      <th></th>\n",
       "      <th></th>\n",
       "      <th></th>\n",
       "      <th></th>\n",
       "      <th></th>\n",
       "      <th></th>\n",
       "    </tr>\n",
       "  </thead>\n",
       "  <tbody>\n",
       "    <tr>\n",
       "      <th>\"Ash\"</th>\n",
       "      <td>0.0</td>\n",
       "      <td>0.0</td>\n",
       "      <td>0.0</td>\n",
       "      <td>0.0</td>\n",
       "      <td>0.0</td>\n",
       "      <td>0.0</td>\n",
       "      <td>0.0</td>\n",
       "      <td>0.0</td>\n",
       "      <td>0.0</td>\n",
       "      <td>0.0</td>\n",
       "      <td>...</td>\n",
       "      <td>0.0</td>\n",
       "      <td>0.0</td>\n",
       "      <td>0.0</td>\n",
       "      <td>0.0</td>\n",
       "      <td>0.0</td>\n",
       "      <td>0.0</td>\n",
       "      <td>0.0</td>\n",
       "      <td>0.0</td>\n",
       "      <td>0.0</td>\n",
       "      <td>0.0</td>\n",
       "    </tr>\n",
       "    <tr>\n",
       "      <th>\"Beaky Buzzard\"</th>\n",
       "      <td>0.0</td>\n",
       "      <td>0.0</td>\n",
       "      <td>0.0</td>\n",
       "      <td>0.0</td>\n",
       "      <td>0.0</td>\n",
       "      <td>0.0</td>\n",
       "      <td>0.0</td>\n",
       "      <td>0.0</td>\n",
       "      <td>0.0</td>\n",
       "      <td>0.0</td>\n",
       "      <td>...</td>\n",
       "      <td>0.0</td>\n",
       "      <td>0.0</td>\n",
       "      <td>0.0</td>\n",
       "      <td>0.0</td>\n",
       "      <td>0.0</td>\n",
       "      <td>0.0</td>\n",
       "      <td>0.0</td>\n",
       "      <td>0.0</td>\n",
       "      <td>0.0</td>\n",
       "      <td>0.0</td>\n",
       "    </tr>\n",
       "    <tr>\n",
       "      <th>\"Brokaw\"</th>\n",
       "      <td>0.0</td>\n",
       "      <td>0.0</td>\n",
       "      <td>0.0</td>\n",
       "      <td>0.0</td>\n",
       "      <td>0.0</td>\n",
       "      <td>0.0</td>\n",
       "      <td>0.0</td>\n",
       "      <td>0.0</td>\n",
       "      <td>0.0</td>\n",
       "      <td>0.0</td>\n",
       "      <td>...</td>\n",
       "      <td>0.0</td>\n",
       "      <td>0.0</td>\n",
       "      <td>0.0</td>\n",
       "      <td>0.0</td>\n",
       "      <td>0.0</td>\n",
       "      <td>0.0</td>\n",
       "      <td>0.0</td>\n",
       "      <td>0.0</td>\n",
       "      <td>0.0</td>\n",
       "      <td>0.0</td>\n",
       "    </tr>\n",
       "    <tr>\n",
       "      <th>\"Cupid Ye\"</th>\n",
       "      <td>0.0</td>\n",
       "      <td>0.0</td>\n",
       "      <td>0.0</td>\n",
       "      <td>0.0</td>\n",
       "      <td>0.0</td>\n",
       "      <td>0.0</td>\n",
       "      <td>0.0</td>\n",
       "      <td>0.0</td>\n",
       "      <td>0.0</td>\n",
       "      <td>0.0</td>\n",
       "      <td>...</td>\n",
       "      <td>0.0</td>\n",
       "      <td>0.0</td>\n",
       "      <td>0.0</td>\n",
       "      <td>0.0</td>\n",
       "      <td>0.0</td>\n",
       "      <td>0.0</td>\n",
       "      <td>0.0</td>\n",
       "      <td>0.0</td>\n",
       "      <td>0.0</td>\n",
       "      <td>0.0</td>\n",
       "    </tr>\n",
       "    <tr>\n",
       "      <th>\"Droopy Dawg\"</th>\n",
       "      <td>0.0</td>\n",
       "      <td>0.0</td>\n",
       "      <td>0.0</td>\n",
       "      <td>0.0</td>\n",
       "      <td>0.0</td>\n",
       "      <td>0.0</td>\n",
       "      <td>0.0</td>\n",
       "      <td>0.0</td>\n",
       "      <td>0.0</td>\n",
       "      <td>0.0</td>\n",
       "      <td>...</td>\n",
       "      <td>0.0</td>\n",
       "      <td>0.0</td>\n",
       "      <td>0.0</td>\n",
       "      <td>0.0</td>\n",
       "      <td>0.0</td>\n",
       "      <td>0.0</td>\n",
       "      <td>0.0</td>\n",
       "      <td>0.0</td>\n",
       "      <td>0.0</td>\n",
       "      <td>0.0</td>\n",
       "    </tr>\n",
       "    <tr>\n",
       "      <th>...</th>\n",
       "      <td>...</td>\n",
       "      <td>...</td>\n",
       "      <td>...</td>\n",
       "      <td>...</td>\n",
       "      <td>...</td>\n",
       "      <td>...</td>\n",
       "      <td>...</td>\n",
       "      <td>...</td>\n",
       "      <td>...</td>\n",
       "      <td>...</td>\n",
       "      <td>...</td>\n",
       "      <td>...</td>\n",
       "      <td>...</td>\n",
       "      <td>...</td>\n",
       "      <td>...</td>\n",
       "      <td>...</td>\n",
       "      <td>...</td>\n",
       "      <td>...</td>\n",
       "      <td>...</td>\n",
       "      <td>...</td>\n",
       "      <td>...</td>\n",
       "    </tr>\n",
       "    <tr>\n",
       "      <th>Zazul</th>\n",
       "      <td>0.0</td>\n",
       "      <td>0.0</td>\n",
       "      <td>0.0</td>\n",
       "      <td>0.0</td>\n",
       "      <td>0.0</td>\n",
       "      <td>0.0</td>\n",
       "      <td>0.0</td>\n",
       "      <td>0.0</td>\n",
       "      <td>0.0</td>\n",
       "      <td>0.0</td>\n",
       "      <td>...</td>\n",
       "      <td>0.0</td>\n",
       "      <td>0.0</td>\n",
       "      <td>0.0</td>\n",
       "      <td>0.0</td>\n",
       "      <td>0.0</td>\n",
       "      <td>0.0</td>\n",
       "      <td>0.0</td>\n",
       "      <td>0.0</td>\n",
       "      <td>0.0</td>\n",
       "      <td>0.0</td>\n",
       "    </tr>\n",
       "    <tr>\n",
       "      <th>Zeus</th>\n",
       "      <td>0.0</td>\n",
       "      <td>0.0</td>\n",
       "      <td>0.0</td>\n",
       "      <td>0.0</td>\n",
       "      <td>0.0</td>\n",
       "      <td>0.0</td>\n",
       "      <td>0.0</td>\n",
       "      <td>0.0</td>\n",
       "      <td>0.0</td>\n",
       "      <td>0.0</td>\n",
       "      <td>...</td>\n",
       "      <td>0.0</td>\n",
       "      <td>0.0</td>\n",
       "      <td>0.0</td>\n",
       "      <td>0.0</td>\n",
       "      <td>0.0</td>\n",
       "      <td>0.0</td>\n",
       "      <td>0.0</td>\n",
       "      <td>0.0</td>\n",
       "      <td>0.0</td>\n",
       "      <td>0.0</td>\n",
       "    </tr>\n",
       "    <tr>\n",
       "      <th>f*ther Maxi</th>\n",
       "      <td>0.0</td>\n",
       "      <td>0.0</td>\n",
       "      <td>0.0</td>\n",
       "      <td>0.0</td>\n",
       "      <td>0.0</td>\n",
       "      <td>0.0</td>\n",
       "      <td>0.0</td>\n",
       "      <td>0.0</td>\n",
       "      <td>0.0</td>\n",
       "      <td>0.0</td>\n",
       "      <td>...</td>\n",
       "      <td>0.0</td>\n",
       "      <td>0.0</td>\n",
       "      <td>0.0</td>\n",
       "      <td>0.0</td>\n",
       "      <td>0.0</td>\n",
       "      <td>0.0</td>\n",
       "      <td>0.0</td>\n",
       "      <td>0.0</td>\n",
       "      <td>0.0</td>\n",
       "      <td>0.0</td>\n",
       "    </tr>\n",
       "    <tr>\n",
       "      <th>instructor</th>\n",
       "      <td>0.0</td>\n",
       "      <td>0.0</td>\n",
       "      <td>0.0</td>\n",
       "      <td>0.0</td>\n",
       "      <td>0.0</td>\n",
       "      <td>0.0</td>\n",
       "      <td>0.0</td>\n",
       "      <td>0.0</td>\n",
       "      <td>0.0</td>\n",
       "      <td>0.0</td>\n",
       "      <td>...</td>\n",
       "      <td>0.0</td>\n",
       "      <td>0.0</td>\n",
       "      <td>0.0</td>\n",
       "      <td>0.0</td>\n",
       "      <td>0.0</td>\n",
       "      <td>0.0</td>\n",
       "      <td>0.0</td>\n",
       "      <td>0.0</td>\n",
       "      <td>0.0</td>\n",
       "      <td>0.0</td>\n",
       "    </tr>\n",
       "    <tr>\n",
       "      <th>woman</th>\n",
       "      <td>0.0</td>\n",
       "      <td>0.0</td>\n",
       "      <td>0.0</td>\n",
       "      <td>0.0</td>\n",
       "      <td>0.0</td>\n",
       "      <td>0.0</td>\n",
       "      <td>0.0</td>\n",
       "      <td>0.0</td>\n",
       "      <td>0.0</td>\n",
       "      <td>0.0</td>\n",
       "      <td>...</td>\n",
       "      <td>0.0</td>\n",
       "      <td>0.0</td>\n",
       "      <td>0.0</td>\n",
       "      <td>0.0</td>\n",
       "      <td>0.0</td>\n",
       "      <td>0.0</td>\n",
       "      <td>0.0</td>\n",
       "      <td>0.0</td>\n",
       "      <td>0.0</td>\n",
       "      <td>0.0</td>\n",
       "    </tr>\n",
       "  </tbody>\n",
       "</table>\n",
       "<p>2268 rows × 951 columns</p>\n",
       "</div>"
      ],
      "text/plain": [
       "matches          Adam  Adams  Adolf  Adults  Agent  Aguilar   Al  Alan  Alarm  \\\n",
       "name                                                                            \n",
       "\"Ash\"             0.0    0.0    0.0     0.0    0.0      0.0  0.0   0.0    0.0   \n",
       "\"Beaky Buzzard\"   0.0    0.0    0.0     0.0    0.0      0.0  0.0   0.0    0.0   \n",
       "\"Brokaw\"          0.0    0.0    0.0     0.0    0.0      0.0  0.0   0.0    0.0   \n",
       "\"Cupid Ye\"        0.0    0.0    0.0     0.0    0.0      0.0  0.0   0.0    0.0   \n",
       "\"Droopy Dawg\"     0.0    0.0    0.0     0.0    0.0      0.0  0.0   0.0    0.0   \n",
       "...               ...    ...    ...     ...    ...      ...  ...   ...    ...   \n",
       "Zazul             0.0    0.0    0.0     0.0    0.0      0.0  0.0   0.0    0.0   \n",
       "Zeus              0.0    0.0    0.0     0.0    0.0      0.0  0.0   0.0    0.0   \n",
       "f*ther Maxi       0.0    0.0    0.0     0.0    0.0      0.0  0.0   0.0    0.0   \n",
       "instructor        0.0    0.0    0.0     0.0    0.0      0.0  0.0   0.0    0.0   \n",
       "woman             0.0    0.0    0.0     0.0    0.0      0.0  0.0   0.0    0.0   \n",
       "\n",
       "matches          Alec  ...  Yolanda  YourMomsTits  Zazul  Zeus  Zombie  Zytar  \\\n",
       "name                   ...                                                      \n",
       "\"Ash\"             0.0  ...      0.0           0.0    0.0   0.0     0.0    0.0   \n",
       "\"Beaky Buzzard\"   0.0  ...      0.0           0.0    0.0   0.0     0.0    0.0   \n",
       "\"Brokaw\"          0.0  ...      0.0           0.0    0.0   0.0     0.0    0.0   \n",
       "\"Cupid Ye\"        0.0  ...      0.0           0.0    0.0   0.0     0.0    0.0   \n",
       "\"Droopy Dawg\"     0.0  ...      0.0           0.0    0.0   0.0     0.0    0.0   \n",
       "...               ...  ...      ...           ...    ...   ...     ...    ...   \n",
       "Zazul             0.0  ...      0.0           0.0    0.0   0.0     0.0    0.0   \n",
       "Zeus              0.0  ...      0.0           0.0    0.0   0.0     0.0    0.0   \n",
       "f*ther Maxi       0.0  ...      0.0           0.0    0.0   0.0     0.0    0.0   \n",
       "instructor        0.0  ...      0.0           0.0    0.0   0.0     0.0    0.0   \n",
       "woman             0.0  ...      0.0           0.0    0.0   0.0     0.0    0.0   \n",
       "\n",
       "matches          driver  instructor  woman  worker  \n",
       "name                                                \n",
       "\"Ash\"               0.0         0.0    0.0     0.0  \n",
       "\"Beaky Buzzard\"     0.0         0.0    0.0     0.0  \n",
       "\"Brokaw\"            0.0         0.0    0.0     0.0  \n",
       "\"Cupid Ye\"          0.0         0.0    0.0     0.0  \n",
       "\"Droopy Dawg\"       0.0         0.0    0.0     0.0  \n",
       "...                 ...         ...    ...     ...  \n",
       "Zazul               0.0         0.0    0.0     0.0  \n",
       "Zeus                0.0         0.0    0.0     0.0  \n",
       "f*ther Maxi         0.0         0.0    0.0     0.0  \n",
       "instructor          0.0         0.0    0.0     0.0  \n",
       "woman               0.0         0.0    0.0     0.0  \n",
       "\n",
       "[2268 rows x 951 columns]"
      ]
     },
     "execution_count": 63,
     "metadata": {},
     "output_type": "execute_result"
    }
   ],
   "source": [
    "pivot_table"
   ]
  },
  {
   "cell_type": "code",
   "execution_count": 71,
   "id": "50736dca-4b9b-45f4-9fdf-d39d3ce65981",
   "metadata": {},
   "outputs": [
    {
     "data": {
      "text/plain": [
       "'/Users/loucap/Documents/GitWork/SNA'"
      ]
     },
     "execution_count": 71,
     "metadata": {},
     "output_type": "execute_result"
    }
   ],
   "source": [
    "import os\n",
    "\n",
    "os.getcwd()"
   ]
  },
  {
   "cell_type": "markdown",
   "id": "5520a4d4-91c4-49c0-bc7b-1ba1c6777bf7",
   "metadata": {},
   "source": [
    "# Save matrix and counts df to csv"
   ]
  },
  {
   "cell_type": "code",
   "execution_count": 72,
   "id": "34330dc1-337f-4e9c-9522-319a4f52a60b",
   "metadata": {},
   "outputs": [],
   "source": [
    "counts.to_csv('Data/counts.csv', index = False)"
   ]
  },
  {
   "cell_type": "code",
   "execution_count": 73,
   "id": "4e70c089-867c-4301-9522-903ad6ed7ac3",
   "metadata": {},
   "outputs": [],
   "source": [
    "pivot_table.to_csv('Data/pivottab.csv', index = False)"
   ]
  },
  {
   "cell_type": "code",
   "execution_count": 38,
   "id": "3780f84b-7c98-4836-8f57-1e0c578db4a4",
   "metadata": {},
   "outputs": [],
   "source": [
    "all_characters = set(counts['name']).union(set(counts['matches']))"
   ]
  },
  {
   "cell_type": "code",
   "execution_count": 39,
   "id": "b84d5a0d-a933-4ce6-a3d5-65e89824f0ff",
   "metadata": {},
   "outputs": [
    {
     "data": {
      "text/plain": [
       "2586"
      ]
     },
     "execution_count": 39,
     "metadata": {},
     "output_type": "execute_result"
    }
   ],
   "source": [
    "len(all_characters)"
   ]
  },
  {
   "cell_type": "code",
   "execution_count": 41,
   "id": "a9d78fb1-4d3a-4a0b-aee1-bdb7fba1457a",
   "metadata": {},
   "outputs": [],
   "source": [
    "from nxviz import MatrixPlot"
   ]
  },
  {
   "cell_type": "code",
   "execution_count": 42,
   "id": "2c024678-b534-4dba-add6-12688866fd91",
   "metadata": {},
   "outputs": [],
   "source": [
    "import networkx as nx\n",
    "import matplotlib.pyplot as plt"
   ]
  },
  {
   "cell_type": "code",
   "execution_count": 43,
   "id": "b2ae14f2-8117-48a7-bb57-a9b1961300a8",
   "metadata": {},
   "outputs": [],
   "source": [
    "# G = nx.DiGraph(out)"
   ]
  },
  {
   "cell_type": "code",
   "execution_count": null,
   "id": "87d5fb3b-1b24-4753-849c-b49bef0cd34b",
   "metadata": {},
   "outputs": [],
   "source": []
  },
  {
   "cell_type": "code",
   "execution_count": 44,
   "id": "81d0c25c-4d95-4cfa-bfaa-ffdd7b708241",
   "metadata": {},
   "outputs": [],
   "source": [
    "# m = MatrixPlot(G)\n"
   ]
  },
  {
   "cell_type": "code",
   "execution_count": 45,
   "id": "a0fc4d2a-ceb1-4024-9b64-4bffe880d72a",
   "metadata": {},
   "outputs": [],
   "source": [
    "# Convert the pivoted DataFrame to a directed graph\n",
    "# G = nx.from_pandas_adjacency(pivoted_2, create_using=nx.DiGraph)\n",
    "\n",
    "# Create a MatrixPlot object\n",
    "# m = MatrixPlot(G)\n",
    "\n",
    "# Display the plot\n",
    "# plt.figure(figsize=(8, 8))  # Optional: Set the plot size\n",
    "# m.draw()\n",
    "# plt.show()"
   ]
  },
  {
   "cell_type": "markdown",
   "id": "737324c2-c74e-4f9d-aec1-ee0fd70bb587",
   "metadata": {},
   "source": [
    "# Rudimentary network"
   ]
  },
  {
   "cell_type": "code",
   "execution_count": null,
   "id": "fd49c860-7dc9-4635-b534-43aa6bff9d83",
   "metadata": {},
   "outputs": [],
   "source": [
    "import networkx as nx\n",
    "import matplotlib.pyplot as plt\n",
    "import xlrd"
   ]
  },
  {
   "cell_type": "code",
   "execution_count": null,
   "id": "9f5d69b3-45d0-4ffc-b196-736b5d94a7a3",
   "metadata": {},
   "outputs": [],
   "source": [
    "G = nx.Graph()\n",
    "names = []\n",
    "\n",
    "zipped = list(zip(red['name'], red['matches']))"
   ]
  },
  {
   "cell_type": "code",
   "execution_count": null,
   "id": "5901a19a-5b0a-4219-afc0-7dc3d0e975db",
   "metadata": {},
   "outputs": [],
   "source": [
    "G.add_edges_from(zipped)"
   ]
  },
  {
   "cell_type": "code",
   "execution_count": null,
   "id": "e0bdbcfd-f9ce-440c-99b7-d62d715881f4",
   "metadata": {},
   "outputs": [],
   "source": [
    "nx.draw(G, with_labels = True)"
   ]
  },
  {
   "cell_type": "code",
   "execution_count": null,
   "id": "bf33750a-800d-4bdf-a6f1-e9e9876612fe",
   "metadata": {},
   "outputs": [],
   "source": [
    "plt.show()"
   ]
  },
  {
   "cell_type": "markdown",
   "id": "c9f204ae-eec1-4379-9da2-c26a1360754e",
   "metadata": {},
   "source": [
    "# Networkx"
   ]
  },
  {
   "cell_type": "code",
   "execution_count": null,
   "id": "95ea5ed9-f969-4e81-9440-04a26db1c002",
   "metadata": {},
   "outputs": [],
   "source": [
    "b[(b.name == 'Cartman') & (b.matches == 'Butters')]"
   ]
  },
  {
   "cell_type": "code",
   "execution_count": null,
   "id": "3ca679ce-e260-46a4-b2a3-30d6caceac63",
   "metadata": {},
   "outputs": [],
   "source": [
    "G2 = nx.from_pandas_edgelist(b, source = \"name\", target = \"matches\", edge_attr = \"count\", create_using = nx.Graph())"
   ]
  },
  {
   "cell_type": "code",
   "execution_count": null,
   "id": "8a170b5d-28c6-4d76-9790-7117b5d556f1",
   "metadata": {},
   "outputs": [],
   "source": [
    "plt.figure(figsize = (10,10))\n",
    "pos = nx.kamada_kawai_layout(G2)\n",
    "nx.draw(G2, with_labels = True, node_color = 'skyblue', edge_cmap=plt.cm.Blues, pos = pos, font_size = 8, node_size = 150)\n",
    "plt.show()"
   ]
  },
  {
   "cell_type": "code",
   "execution_count": null,
   "id": "eda2b329-acee-4aca-a719-862b807abd5b",
   "metadata": {},
   "outputs": [],
   "source": [
    "total_nodes = pd.concat([b['name'], b['matches']]).nunique()\n",
    "print(total_nodes)"
   ]
  },
  {
   "cell_type": "code",
   "execution_count": null,
   "id": "a5ab6fcb-94ab-46a3-8d01-18f72aa17521",
   "metadata": {},
   "outputs": [],
   "source": [
    "top_counts = b[b['count'] > 10]"
   ]
  },
  {
   "cell_type": "code",
   "execution_count": null,
   "id": "9a2c0dbd-96d8-4266-a34a-c7f078b77873",
   "metadata": {},
   "outputs": [],
   "source": [
    "len(top_counts)"
   ]
  },
  {
   "cell_type": "code",
   "execution_count": null,
   "id": "a8306fc1-d43a-43e9-8a56-4d1479fb42c4",
   "metadata": {},
   "outputs": [],
   "source": [
    "total_nodes = pd.concat([top_counts['name'], top_counts['matches']]).nunique()\n",
    "print(total_nodes)"
   ]
  },
  {
   "cell_type": "code",
   "execution_count": null,
   "id": "e403dee9-026e-438b-8a96-b4ac4ff30c3e",
   "metadata": {},
   "outputs": [],
   "source": [
    "G3 = nx.from_pandas_edgelist(top_counts, source = \"name\", target = \"matches\", edge_attr = \"count\", create_using = nx.Graph())"
   ]
  },
  {
   "cell_type": "code",
   "execution_count": null,
   "id": "9370e535-20be-4fcc-b331-72343779fefa",
   "metadata": {},
   "outputs": [],
   "source": [
    "plt.figure(figsize = (10,10))\n",
    "pos = nx.kamada_kawai_layout(G3)\n",
    "nx.draw(G3, with_labels = True, node_color = 'skyblue', edge_cmap=plt.cm.Blues, pos = pos, font_size = 8, node_size = 150)\n",
    "plt.show()"
   ]
  },
  {
   "cell_type": "code",
   "execution_count": null,
   "id": "604efa06-b95c-4244-83ba-d1a5c495fa76",
   "metadata": {},
   "outputs": [],
   "source": [
    "nx.degree_centrality(G3)"
   ]
  },
  {
   "cell_type": "code",
   "execution_count": null,
   "id": "fbb3c1d5-2fab-4096-81b1-f319191fabfe",
   "metadata": {},
   "outputs": [],
   "source": [
    "9759 / 10137 * 100"
   ]
  },
  {
   "cell_type": "code",
   "execution_count": null,
   "id": "07320596-bc58-48b3-82b4-2eec03de4ebb",
   "metadata": {},
   "outputs": [],
   "source": [
    "# from pyvis.network import Network\n",
    "# net = Network(notebook = True, width=\"1000px\", height= \"700px\", bgcolor = \"#222222\", font_color='white')\n",
    "# net.from_nx(G2)\n",
    "# net.show(\"southpark.html\")"
   ]
  },
  {
   "cell_type": "markdown",
   "id": "b9b73236-7354-46c6-ba0b-72681bd1682d",
   "metadata": {},
   "source": [
    "# X_array stuff"
   ]
  },
  {
   "cell_type": "code",
   "execution_count": null,
   "id": "843815b9-5b2f-4b81-a1a6-b2f4c535888e",
   "metadata": {},
   "outputs": [],
   "source": [
    "# xarray\n",
    "\n",
    "ds = filtered.to_xarray()"
   ]
  },
  {
   "cell_type": "code",
   "execution_count": null,
   "id": "26753747-3d08-4698-b634-a013a7a005a1",
   "metadata": {},
   "outputs": [],
   "source": [
    "ds.set_coords(['name', 'matches', 'n_mentions'])"
   ]
  },
  {
   "cell_type": "code",
   "execution_count": null,
   "id": "ba86419e-b445-4303-aa3a-9a10e827a959",
   "metadata": {},
   "outputs": [],
   "source": [
    "for i in na:\n",
    "    if i == 'Sorry':\n",
    "        print(i)"
   ]
  },
  {
   "cell_type": "markdown",
   "id": "f94276c4-1513-4e68-af28-1933f2445bc4",
   "metadata": {},
   "source": [
    "Things to consider:\n",
    "\n",
    "The boys use \"Dude\" a lot throughout to refer to each other, but in a few of the episodes (3) there is a generic \"Dude\" character, and he does reference others. Should we filter these out?\n",
    "\n",
    "We also need to filter out \"Sorry\". It appears once in "
   ]
  },
  {
   "cell_type": "code",
   "execution_count": null,
   "id": "eba4b4e2-e337-4744-8c90-ee7be89a562c",
   "metadata": {},
   "outputs": [],
   "source": [
    "df_c[df_c.name == 'Sorry'].head(70)"
   ]
  },
  {
   "cell_type": "code",
   "execution_count": null,
   "id": "e695adc6-13bd-4f71-83c7-051ff27ef45f",
   "metadata": {},
   "outputs": [],
   "source": [
    "pd.set_option('display.max_rows', 500)\n",
    "\n",
    "df_c[df_c.ep_szn == 218]"
   ]
  },
  {
   "cell_type": "markdown",
   "id": "bf8be8c1",
   "metadata": {
    "jp-MarkdownHeadingCollapsed": true
   },
   "source": [
    "# Extract named entities"
   ]
  },
  {
   "cell_type": "code",
   "execution_count": null,
   "id": "5afe6ebd",
   "metadata": {},
   "outputs": [],
   "source": [
    "df_c['lines'].replace(to_replace=\"\\[.*?]\", value=\"\", regex=True, inplace=True)"
   ]
  },
  {
   "cell_type": "code",
   "execution_count": null,
   "id": "8a063a54-964e-4fa6-9b99-1bcc2e3e4de8",
   "metadata": {},
   "outputs": [],
   "source": [
    "df_c['lines'][98]"
   ]
  },
  {
   "cell_type": "code",
   "execution_count": null,
   "id": "652d41c1",
   "metadata": {},
   "outputs": [],
   "source": [
    "b = df_c.lines.tolist()"
   ]
  },
  {
   "cell_type": "code",
   "execution_count": null,
   "id": "93461bc5",
   "metadata": {},
   "outputs": [],
   "source": [
    "ent_list = []\n",
    "\n",
    "for i in b[:5]:\n",
    "    print(\"aye\", i)\n",
    "    doc = nlp(i) \n",
    "    for entity in doc.ents:\n",
    "        ent_list.append(entity.text)\n",
    "    else:\n",
    "        ent_list.append(\"None\")\n",
    "        "
   ]
  },
  {
   "cell_type": "code",
   "execution_count": null,
   "id": "5ac1b297",
   "metadata": {},
   "outputs": [],
   "source": [
    "ent_list"
   ]
  },
  {
   "cell_type": "code",
   "execution_count": null,
   "id": "3fd40c68",
   "metadata": {},
   "outputs": [],
   "source": [
    "sent_ent = []\n",
    "\n",
    "\n",
    "for line, char in zip(df_c.lines, df_c.name):\n",
    "    doc = nlp(line)\n",
    "    entity_list = [ent.text for ent in doc.ents if ent.label_ == 'PERSON']\n",
    "    sent_ent.append({\"name\": char, \"line\": line, \"entities\": entity_list})\n",
    "    \n",
    "    for ent in doc.ents:\n",
    "        print(ent.label_)\n",
    "#     doc = nlp(i)\n",
    "#     for entity in doc.ents:\n",
    "#         entity_list.append(entity.text)\n",
    "#     else:\n",
    "#         entity_list.append(\"None\")"
   ]
  },
  {
   "cell_type": "code",
   "execution_count": null,
   "id": "6821777c-51d2-449f-ac3b-8e85b98e4ab5",
   "metadata": {},
   "outputs": [],
   "source": [
    "sent_ent"
   ]
  },
  {
   "cell_type": "code",
   "execution_count": null,
   "id": "3ce00b6d",
   "metadata": {},
   "outputs": [],
   "source": [
    "for i in sent_ent[:10]:\n",
    "    print(i['entities'])"
   ]
  },
  {
   "cell_type": "code",
   "execution_count": null,
   "id": "faee86aa-4ee0-4ea5-8100-b73004b72a65",
   "metadata": {},
   "outputs": [],
   "source": [
    "for i in sent_ent[:3]:\n",
    "    print(i)"
   ]
  },
  {
   "cell_type": "code",
   "execution_count": null,
   "id": "6983629b-4b19-4007-a0f5-7a0131a60a04",
   "metadata": {},
   "outputs": [],
   "source": [
    "df_c.name"
   ]
  },
  {
   "cell_type": "code",
   "execution_count": null,
   "id": "e45a5e64-611d-4fbb-a15e-31b61d8a8c3b",
   "metadata": {},
   "outputs": [],
   "source": [
    "entity_list"
   ]
  },
  {
   "cell_type": "code",
   "execution_count": null,
   "id": "a07e6d32",
   "metadata": {},
   "outputs": [],
   "source": [
    "df_c['Entities'] = entity_list"
   ]
  },
  {
   "cell_type": "code",
   "execution_count": null,
   "id": "cd04fc0c",
   "metadata": {},
   "outputs": [],
   "source": []
  },
  {
   "cell_type": "code",
   "execution_count": null,
   "id": "707fee6c",
   "metadata": {},
   "outputs": [],
   "source": [
    "na_removed"
   ]
  },
  {
   "cell_type": "code",
   "execution_count": null,
   "id": "12b9e1f1",
   "metadata": {},
   "outputs": [],
   "source": [
    "na_removed['line_sent'] = na_removed['lines'].apply(lambda x: TextBlob(x).sentiment[0])"
   ]
  },
  {
   "cell_type": "code",
   "execution_count": null,
   "id": "ec927c09",
   "metadata": {},
   "outputs": [],
   "source": [
    "na_removed"
   ]
  },
  {
   "cell_type": "code",
   "execution_count": null,
   "id": "70d000da",
   "metadata": {},
   "outputs": [],
   "source": [
    "cartman = na_removed[na_removed.name == 'Cartman']"
   ]
  },
  {
   "cell_type": "code",
   "execution_count": null,
   "id": "6a54ae35",
   "metadata": {},
   "outputs": [],
   "source": [
    "cartman"
   ]
  },
  {
   "cell_type": "code",
   "execution_count": null,
   "id": "136946b2",
   "metadata": {},
   "outputs": [],
   "source": [
    "cartman.line_sent.mean()"
   ]
  },
  {
   "cell_type": "code",
   "execution_count": null,
   "id": "9cae0431",
   "metadata": {},
   "outputs": [],
   "source": [
    "cartman.line_sent.sum() / len(cartman)"
   ]
  },
  {
   "cell_type": "code",
   "execution_count": null,
   "id": "5a4dca67",
   "metadata": {},
   "outputs": [],
   "source": [
    "zero_removed = cartman[cartman.line_sent != 0.0000]"
   ]
  },
  {
   "cell_type": "code",
   "execution_count": null,
   "id": "19f38b07",
   "metadata": {},
   "outputs": [],
   "source": [
    "zero_removed.line_sent.mean()"
   ]
  },
  {
   "cell_type": "code",
   "execution_count": null,
   "id": "979417a9",
   "metadata": {},
   "outputs": [],
   "source": [
    "kyle = na_removed[na_removed.name == 'Kyle']"
   ]
  },
  {
   "cell_type": "code",
   "execution_count": null,
   "id": "ef0516ea",
   "metadata": {},
   "outputs": [],
   "source": [
    "kyle.line_sent.sum() / len(kyle)"
   ]
  },
  {
   "cell_type": "code",
   "execution_count": null,
   "id": "40c404fc",
   "metadata": {},
   "outputs": [],
   "source": [
    "wendy = na_removed[na_removed.name == 'Wendy']"
   ]
  },
  {
   "cell_type": "code",
   "execution_count": null,
   "id": "c00ba6bb",
   "metadata": {},
   "outputs": [],
   "source": [
    "wendy"
   ]
  },
  {
   "cell_type": "code",
   "execution_count": null,
   "id": "3f3c0643",
   "metadata": {},
   "outputs": [],
   "source": [
    "wendy.line_sent.sum() / len(wendy)"
   ]
  },
  {
   "cell_type": "code",
   "execution_count": null,
   "id": "2ece85a4",
   "metadata": {},
   "outputs": [],
   "source": [
    "zero_removed = sheila[sheila.line_sent != 0.0000]"
   ]
  },
  {
   "cell_type": "code",
   "execution_count": null,
   "id": "1a5a3d57",
   "metadata": {},
   "outputs": [],
   "source": [
    "zero_removed.line_sent.sum() / len(zero_removed)"
   ]
  },
  {
   "cell_type": "code",
   "execution_count": null,
   "id": "12a060d1",
   "metadata": {},
   "outputs": [],
   "source": [
    "kenny"
   ]
  },
  {
   "cell_type": "code",
   "execution_count": null,
   "id": "ef9e67e5",
   "metadata": {},
   "outputs": [],
   "source": [
    "kenny = na_removed[na_removed.name == 'Kenny']"
   ]
  },
  {
   "cell_type": "code",
   "execution_count": null,
   "id": "bf9ac934",
   "metadata": {},
   "outputs": [],
   "source": [
    "kenny.line_sent.mean()"
   ]
  },
  {
   "cell_type": "code",
   "execution_count": null,
   "id": "8fa79d7d",
   "metadata": {},
   "outputs": [],
   "source": [
    "zero_removed = kenny[kenny.line_sent != 0.0000]"
   ]
  },
  {
   "cell_type": "code",
   "execution_count": null,
   "id": "0eb1f1b9",
   "metadata": {},
   "outputs": [],
   "source": [
    "zero_removed.line_sent.mean()"
   ]
  },
  {
   "cell_type": "code",
   "execution_count": null,
   "id": "4f638e5c",
   "metadata": {},
   "outputs": [],
   "source": [
    "garrison = na_removed[na_removed.name == 'Garrison']"
   ]
  },
  {
   "cell_type": "code",
   "execution_count": null,
   "id": "f15fb25d",
   "metadata": {},
   "outputs": [],
   "source": [
    "garrison"
   ]
  },
  {
   "cell_type": "code",
   "execution_count": null,
   "id": "2a17a6b4",
   "metadata": {},
   "outputs": [],
   "source": [
    "garrison.line_sent.mean()"
   ]
  },
  {
   "cell_type": "code",
   "execution_count": null,
   "id": "6110f95f",
   "metadata": {},
   "outputs": [],
   "source": [
    "means = []\n",
    "names = []\n",
    "\n",
    "for i in na_removed.name.unique():\n",
    "    names.append(i)\n",
    "    unique = na_removed[na_removed.name == i]\n",
    "    mean = unique.line_sent.mean()\n",
    "    means.append(mean)\n",
    "    "
   ]
  },
  {
   "cell_type": "code",
   "execution_count": null,
   "id": "2bd43346",
   "metadata": {},
   "outputs": [],
   "source": [
    "df = pd.DataFrame(list(zip(names, means)),\n",
    "               columns =['Name', 'Mean'])"
   ]
  },
  {
   "cell_type": "code",
   "execution_count": null,
   "id": "d83f3af7",
   "metadata": {},
   "outputs": [],
   "source": [
    "df.sort_values(by = 'Mean', ascending = False)[:50]"
   ]
  },
  {
   "cell_type": "code",
   "execution_count": null,
   "id": "eb089b46",
   "metadata": {},
   "outputs": [],
   "source": [
    "import sys\n",
    "import numpy\n",
    "numpy.set_printoptions(threshold=sys.maxsize)\n",
    "\n",
    "df.name.unique()"
   ]
  }
 ],
 "metadata": {
  "kernelspec": {
   "display_name": "Python (new_spacy)",
   "language": "python",
   "name": "spacy"
  },
  "language_info": {
   "codemirror_mode": {
    "name": "ipython",
    "version": 3
   },
   "file_extension": ".py",
   "mimetype": "text/x-python",
   "name": "python",
   "nbconvert_exporter": "python",
   "pygments_lexer": "ipython3",
   "version": "3.10.11"
  },
  "toc": {
   "base_numbering": 1,
   "nav_menu": {},
   "number_sections": true,
   "sideBar": true,
   "skip_h1_title": false,
   "title_cell": "Table of Contents",
   "title_sidebar": "Contents",
   "toc_cell": false,
   "toc_position": {},
   "toc_section_display": true,
   "toc_window_display": true
  },
  "varInspector": {
   "cols": {
    "lenName": 16,
    "lenType": 16,
    "lenVar": 40
   },
   "kernels_config": {
    "python": {
     "delete_cmd_postfix": "",
     "delete_cmd_prefix": "del ",
     "library": "var_list.py",
     "varRefreshCmd": "print(var_dic_list())"
    },
    "r": {
     "delete_cmd_postfix": ") ",
     "delete_cmd_prefix": "rm(",
     "library": "var_list.r",
     "varRefreshCmd": "cat(var_dic_list()) "
    }
   },
   "types_to_exclude": [
    "module",
    "function",
    "builtin_function_or_method",
    "instance",
    "_Feature"
   ],
   "window_display": false
  }
 },
 "nbformat": 4,
 "nbformat_minor": 5
}
