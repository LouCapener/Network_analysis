{
 "cells": [
  {
   "cell_type": "code",
   "execution_count": 1,
   "id": "723a720f",
   "metadata": {},
   "outputs": [],
   "source": [
    "import pandas as pd\n",
    "from textblob import TextBlob\n",
    "import spacy\n",
    "\n",
    "nlp = spacy.load(\"en_core_web_sm\")"
   ]
  },
  {
   "cell_type": "code",
   "execution_count": 2,
   "id": "12da9ef7",
   "metadata": {},
   "outputs": [],
   "source": [
    "df = pd.read_csv('Raw_data/lines.csv')"
   ]
  },
  {
   "cell_type": "markdown",
   "id": "a67f0243-e942-4964-b110-e538c8d687c1",
   "metadata": {},
   "source": [
    "# Pre-processing\n",
    "\n",
    "* Inspect NaN values and decide what to do with these rows\n",
    "* Replace any instance of square brackets with text inside with empty strings"
   ]
  },
  {
   "cell_type": "code",
   "execution_count": 10,
   "id": "6252f036-3b16-4735-bdf2-c7332abe6ae2",
   "metadata": {},
   "outputs": [
    {
     "data": {
      "text/html": [
       "<div>\n",
       "<style scoped>\n",
       "    .dataframe tbody tr th:only-of-type {\n",
       "        vertical-align: middle;\n",
       "    }\n",
       "\n",
       "    .dataframe tbody tr th {\n",
       "        vertical-align: top;\n",
       "    }\n",
       "\n",
       "    .dataframe thead th {\n",
       "        text-align: right;\n",
       "    }\n",
       "</style>\n",
       "<table border=\"1\" class=\"dataframe\">\n",
       "  <thead>\n",
       "    <tr style=\"text-align: right;\">\n",
       "      <th></th>\n",
       "      <th>name</th>\n",
       "      <th>ep_szn</th>\n",
       "      <th>title</th>\n",
       "      <th>lines</th>\n",
       "    </tr>\n",
       "  </thead>\n",
       "  <tbody>\n",
       "    <tr>\n",
       "      <th>20444</th>\n",
       "      <td>Cartman</td>\n",
       "      <td>410</td>\n",
       "      <td>\"Do the Handicapped Go to Hell?\"</td>\n",
       "      <td>NaN</td>\n",
       "    </tr>\n",
       "    <tr>\n",
       "      <th>20446</th>\n",
       "      <td>Cartman</td>\n",
       "      <td>410</td>\n",
       "      <td>\"Do the Handicapped Go to Hell?\"</td>\n",
       "      <td>NaN</td>\n",
       "    </tr>\n",
       "    <tr>\n",
       "      <th>22929</th>\n",
       "      <td>Stan, Kyle</td>\n",
       "      <td>417</td>\n",
       "      <td>\"A Very Crappy Christmas\"</td>\n",
       "      <td>NaN</td>\n",
       "    </tr>\n",
       "    <tr>\n",
       "      <th>25829</th>\n",
       "      <td>Osama bin Laden</td>\n",
       "      <td>509</td>\n",
       "      <td>\"Osama bin Laden Has Farty Pants\"</td>\n",
       "      <td>NaN</td>\n",
       "    </tr>\n",
       "    <tr>\n",
       "      <th>53950</th>\n",
       "      <td>NaN</td>\n",
       "      <td>1212</td>\n",
       "      <td>\"About Last Night...\"</td>\n",
       "      <td>Boom, baby!</td>\n",
       "    </tr>\n",
       "    <tr>\n",
       "      <th>62335</th>\n",
       "      <td>Field reporter</td>\n",
       "      <td>1506</td>\n",
       "      <td>\"City Sushi\"</td>\n",
       "      <td>NaN</td>\n",
       "    </tr>\n",
       "    <tr>\n",
       "      <th>63551</th>\n",
       "      <td>Singers</td>\n",
       "      <td>1511</td>\n",
       "      <td>\"Broadway Bro Down\"</td>\n",
       "      <td>NaN</td>\n",
       "    </tr>\n",
       "    <tr>\n",
       "      <th>75960</th>\n",
       "      <td>NaN</td>\n",
       "      <td>2008</td>\n",
       "      <td>\"Members Only\"</td>\n",
       "      <td>[the machine closes enseals Garrison]</td>\n",
       "    </tr>\n",
       "    <tr>\n",
       "      <th>75969</th>\n",
       "      <td>NaN</td>\n",
       "      <td>2008</td>\n",
       "      <td>\"Members Only\"</td>\n",
       "      <td>[Cartman, Heidi, and the secretary turn their ...</td>\n",
       "    </tr>\n",
       "    <tr>\n",
       "      <th>76090</th>\n",
       "      <td>NaN</td>\n",
       "      <td>2008</td>\n",
       "      <td>\"Members Only\"</td>\n",
       "      <td>[everyone continues walking]</td>\n",
       "    </tr>\n",
       "    <tr>\n",
       "      <th>76214</th>\n",
       "      <td>NaN</td>\n",
       "      <td>2009</td>\n",
       "      <td>\"Not Funny\"</td>\n",
       "      <td>[crowd stops chattering]</td>\n",
       "    </tr>\n",
       "    <tr>\n",
       "      <th>76217</th>\n",
       "      <td>NaN</td>\n",
       "      <td>2009</td>\n",
       "      <td>\"Not Funny\"</td>\n",
       "      <td>[crowd chatters]</td>\n",
       "    </tr>\n",
       "    <tr>\n",
       "      <th>76219</th>\n",
       "      <td>NaN</td>\n",
       "      <td>2009</td>\n",
       "      <td>\"Not Funny\"</td>\n",
       "      <td>[crowd stops]</td>\n",
       "    </tr>\n",
       "    <tr>\n",
       "      <th>76224</th>\n",
       "      <td>NaN</td>\n",
       "      <td>2009</td>\n",
       "      <td>\"Not Funny\"</td>\n",
       "      <td>[crowd panics and runs away]</td>\n",
       "    </tr>\n",
       "    <tr>\n",
       "      <th>76260</th>\n",
       "      <td>NaN</td>\n",
       "      <td>2009</td>\n",
       "      <td>\"Not Funny\"</td>\n",
       "      <td>[Dane 2 opens the door as Bedrager, Dane 1, Da...</td>\n",
       "    </tr>\n",
       "    <tr>\n",
       "      <th>76266</th>\n",
       "      <td>NaN</td>\n",
       "      <td>2009</td>\n",
       "      <td>\"Not Funny\"</td>\n",
       "      <td>[the trolls strip themselves naked]</td>\n",
       "    </tr>\n",
       "    <tr>\n",
       "      <th>76268</th>\n",
       "      <td>NaN</td>\n",
       "      <td>2009</td>\n",
       "      <td>\"Not Funny\"</td>\n",
       "      <td>[trolls enter the room in a line where they ar...</td>\n",
       "    </tr>\n",
       "    <tr>\n",
       "      <th>76270</th>\n",
       "      <td>NaN</td>\n",
       "      <td>2009</td>\n",
       "      <td>\"Not Funny\"</td>\n",
       "      <td>[the door closes]</td>\n",
       "    </tr>\n",
       "    <tr>\n",
       "      <th>76311</th>\n",
       "      <td>NaN</td>\n",
       "      <td>2009</td>\n",
       "      <td>\"Not Funny\"</td>\n",
       "      <td>[everyone else cheered]</td>\n",
       "    </tr>\n",
       "    <tr>\n",
       "      <th>76366</th>\n",
       "      <td>NaN</td>\n",
       "      <td>2009</td>\n",
       "      <td>\"Not Funny\"</td>\n",
       "      <td>[The two Danes walk out of the room.]</td>\n",
       "    </tr>\n",
       "    <tr>\n",
       "      <th>76373</th>\n",
       "      <td>NaN</td>\n",
       "      <td>2009</td>\n",
       "      <td>\"Not Funny\"</td>\n",
       "      <td>[Walks over to red phone and picks up the rece...</td>\n",
       "    </tr>\n",
       "    <tr>\n",
       "      <th>76398</th>\n",
       "      <td>NaN</td>\n",
       "      <td>2009</td>\n",
       "      <td>\"Not Funny\"</td>\n",
       "      <td>[As Heidi continues staring at the board, the ...</td>\n",
       "    </tr>\n",
       "    <tr>\n",
       "      <th>76404</th>\n",
       "      <td>NaN</td>\n",
       "      <td>2009</td>\n",
       "      <td>\"Not Funny\"</td>\n",
       "      <td>[the Male #Occupy Mars SpaceX Worker review hi...</td>\n",
       "    </tr>\n",
       "    <tr>\n",
       "      <th>76407</th>\n",
       "      <td>NaN</td>\n",
       "      <td>2009</td>\n",
       "      <td>\"Not Funny\"</td>\n",
       "      <td>[the employees review their notes again]</td>\n",
       "    </tr>\n",
       "    <tr>\n",
       "      <th>76419</th>\n",
       "      <td>NaN</td>\n",
       "      <td>2009</td>\n",
       "      <td>\"Not Funny\"</td>\n",
       "      <td>[Bedrager walks over to a microphone and start...</td>\n",
       "    </tr>\n",
       "    <tr>\n",
       "      <th>76427</th>\n",
       "      <td>NaN</td>\n",
       "      <td>2009</td>\n",
       "      <td>\"Not Funny\"</td>\n",
       "      <td>[Two Danes try to access a door with their acc...</td>\n",
       "    </tr>\n",
       "    <tr>\n",
       "      <th>76429</th>\n",
       "      <td>NaN</td>\n",
       "      <td>2009</td>\n",
       "      <td>\"Not Funny\"</td>\n",
       "      <td>[The trolls and TrollTrace employees look at e...</td>\n",
       "    </tr>\n",
       "    <tr>\n",
       "      <th>76432</th>\n",
       "      <td>NaN</td>\n",
       "      <td>2009</td>\n",
       "      <td>\"Not Funny\"</td>\n",
       "      <td>[\"Never Gonna Give You Up\" continues playing i...</td>\n",
       "    </tr>\n",
       "    <tr>\n",
       "      <th>76435</th>\n",
       "      <td>NaN</td>\n",
       "      <td>2009</td>\n",
       "      <td>\"Not Funny\"</td>\n",
       "      <td>[Bedrager smiles as the doors shut and he slid...</td>\n",
       "    </tr>\n",
       "    <tr>\n",
       "      <th>76445</th>\n",
       "      <td>NaN</td>\n",
       "      <td>2009</td>\n",
       "      <td>\"Not Funny\"</td>\n",
       "      <td>[Ike hops down the staircase and runs into the...</td>\n",
       "    </tr>\n",
       "    <tr>\n",
       "      <th>85556</th>\n",
       "      <td>NaN</td>\n",
       "      <td>2601</td>\n",
       "      <td>\"Cupid Ye\"</td>\n",
       "      <td>Konnichiwa\\nSayonara\\nKochi, kochi, kochi\\nSay...</td>\n",
       "    </tr>\n",
       "    <tr>\n",
       "      <th>85882</th>\n",
       "      <td>NaN</td>\n",
       "      <td>2602</td>\n",
       "      <td>\"The Worldwide Privacy Tour\"</td>\n",
       "      <td>Come, on, come on,\\nCome on, come on, come on,...</td>\n",
       "    </tr>\n",
       "    <tr>\n",
       "      <th>85884</th>\n",
       "      <td>NaN</td>\n",
       "      <td>2602</td>\n",
       "      <td>\"The Worldwide Privacy Tour\"</td>\n",
       "      <td>It's the Worldwide Privacy Tour\\nCome on, come...</td>\n",
       "    </tr>\n",
       "    <tr>\n",
       "      <th>85886</th>\n",
       "      <td>NaN</td>\n",
       "      <td>2602</td>\n",
       "      <td>\"The Worldwide Privacy Tour\"</td>\n",
       "      <td>It's the Worldwide Privacy Tour\\nCome on, come...</td>\n",
       "    </tr>\n",
       "    <tr>\n",
       "      <th>85888</th>\n",
       "      <td>NaN</td>\n",
       "      <td>2602</td>\n",
       "      <td>\"The Worldwide Privacy Tour\"</td>\n",
       "      <td>The Worldwide Privacy Tour is coming soon to y...</td>\n",
       "    </tr>\n",
       "    <tr>\n",
       "      <th>85889</th>\n",
       "      <td>NaN</td>\n",
       "      <td>2602</td>\n",
       "      <td>\"The Worldwide Privacy Tour\"</td>\n",
       "      <td>Come on, come on, come on,\\nCome on, Come on\\n...</td>\n",
       "    </tr>\n",
       "    <tr>\n",
       "      <th>86149</th>\n",
       "      <td>NaN</td>\n",
       "      <td>2603</td>\n",
       "      <td>\"Japanese Toilet\"</td>\n",
       "      <td>Atashi wa Heia des-u...</td>\n",
       "    </tr>\n",
       "  </tbody>\n",
       "</table>\n",
       "</div>"
      ],
      "text/plain": [
       "                  name  ep_szn                               title  \\\n",
       "20444          Cartman     410    \"Do the Handicapped Go to Hell?\"   \n",
       "20446          Cartman     410    \"Do the Handicapped Go to Hell?\"   \n",
       "22929       Stan, Kyle     417           \"A Very Crappy Christmas\"   \n",
       "25829  Osama bin Laden     509   \"Osama bin Laden Has Farty Pants\"   \n",
       "53950              NaN    1212               \"About Last Night...\"   \n",
       "62335   Field reporter    1506                        \"City Sushi\"   \n",
       "63551          Singers    1511                 \"Broadway Bro Down\"   \n",
       "75960              NaN    2008                      \"Members Only\"   \n",
       "75969              NaN    2008                      \"Members Only\"   \n",
       "76090              NaN    2008                      \"Members Only\"   \n",
       "76214              NaN    2009                         \"Not Funny\"   \n",
       "76217              NaN    2009                         \"Not Funny\"   \n",
       "76219              NaN    2009                         \"Not Funny\"   \n",
       "76224              NaN    2009                         \"Not Funny\"   \n",
       "76260              NaN    2009                         \"Not Funny\"   \n",
       "76266              NaN    2009                         \"Not Funny\"   \n",
       "76268              NaN    2009                         \"Not Funny\"   \n",
       "76270              NaN    2009                         \"Not Funny\"   \n",
       "76311              NaN    2009                         \"Not Funny\"   \n",
       "76366              NaN    2009                         \"Not Funny\"   \n",
       "76373              NaN    2009                         \"Not Funny\"   \n",
       "76398              NaN    2009                         \"Not Funny\"   \n",
       "76404              NaN    2009                         \"Not Funny\"   \n",
       "76407              NaN    2009                         \"Not Funny\"   \n",
       "76419              NaN    2009                         \"Not Funny\"   \n",
       "76427              NaN    2009                         \"Not Funny\"   \n",
       "76429              NaN    2009                         \"Not Funny\"   \n",
       "76432              NaN    2009                         \"Not Funny\"   \n",
       "76435              NaN    2009                         \"Not Funny\"   \n",
       "76445              NaN    2009                         \"Not Funny\"   \n",
       "85556              NaN    2601                          \"Cupid Ye\"   \n",
       "85882              NaN    2602        \"The Worldwide Privacy Tour\"   \n",
       "85884              NaN    2602        \"The Worldwide Privacy Tour\"   \n",
       "85886              NaN    2602        \"The Worldwide Privacy Tour\"   \n",
       "85888              NaN    2602        \"The Worldwide Privacy Tour\"   \n",
       "85889              NaN    2602        \"The Worldwide Privacy Tour\"   \n",
       "86149              NaN    2603                   \"Japanese Toilet\"   \n",
       "\n",
       "                                                   lines  \n",
       "20444                                                NaN  \n",
       "20446                                                NaN  \n",
       "22929                                                NaN  \n",
       "25829                                                NaN  \n",
       "53950                                        Boom, baby!  \n",
       "62335                                                NaN  \n",
       "63551                                                NaN  \n",
       "75960              [the machine closes enseals Garrison]  \n",
       "75969  [Cartman, Heidi, and the secretary turn their ...  \n",
       "76090                       [everyone continues walking]  \n",
       "76214                           [crowd stops chattering]  \n",
       "76217                                   [crowd chatters]  \n",
       "76219                                      [crowd stops]  \n",
       "76224                       [crowd panics and runs away]  \n",
       "76260  [Dane 2 opens the door as Bedrager, Dane 1, Da...  \n",
       "76266                [the trolls strip themselves naked]  \n",
       "76268  [trolls enter the room in a line where they ar...  \n",
       "76270                                  [the door closes]  \n",
       "76311                            [everyone else cheered]  \n",
       "76366              [The two Danes walk out of the room.]  \n",
       "76373  [Walks over to red phone and picks up the rece...  \n",
       "76398  [As Heidi continues staring at the board, the ...  \n",
       "76404  [the Male #Occupy Mars SpaceX Worker review hi...  \n",
       "76407           [the employees review their notes again]  \n",
       "76419  [Bedrager walks over to a microphone and start...  \n",
       "76427  [Two Danes try to access a door with their acc...  \n",
       "76429  [The trolls and TrollTrace employees look at e...  \n",
       "76432  [\"Never Gonna Give You Up\" continues playing i...  \n",
       "76435  [Bedrager smiles as the doors shut and he slid...  \n",
       "76445  [Ike hops down the staircase and runs into the...  \n",
       "85556  Konnichiwa\\nSayonara\\nKochi, kochi, kochi\\nSay...  \n",
       "85882  Come, on, come on,\\nCome on, come on, come on,...  \n",
       "85884  It's the Worldwide Privacy Tour\\nCome on, come...  \n",
       "85886  It's the Worldwide Privacy Tour\\nCome on, come...  \n",
       "85888  The Worldwide Privacy Tour is coming soon to y...  \n",
       "85889  Come on, come on, come on,\\nCome on, Come on\\n...  \n",
       "86149                            Atashi wa Heia des-u...  "
      ]
     },
     "execution_count": 10,
     "metadata": {},
     "output_type": "execute_result"
    }
   ],
   "source": [
    "df[df.isna().any(axis=1)]"
   ]
  },
  {
   "cell_type": "code",
   "execution_count": null,
   "id": "f696acf2",
   "metadata": {},
   "outputs": [],
   "source": [
    "df_c = df[~df.lines.isna()]"
   ]
  },
  {
   "cell_type": "code",
   "execution_count": null,
   "id": "e32ebabd",
   "metadata": {},
   "outputs": [],
   "source": [
    "df_c"
   ]
  },
  {
   "cell_type": "markdown",
   "id": "bf8be8c1",
   "metadata": {},
   "source": [
    "# Extract named entities"
   ]
  },
  {
   "cell_type": "code",
   "execution_count": null,
   "id": "5afe6ebd",
   "metadata": {},
   "outputs": [],
   "source": [
    "df_c['lines'].replace(to_replace=\"\\[.*?]\", value=\"\", regex=True, inplace=True)"
   ]
  },
  {
   "cell_type": "code",
   "execution_count": null,
   "id": "652d41c1",
   "metadata": {},
   "outputs": [],
   "source": [
    "b = df_c.lines.tolist()"
   ]
  },
  {
   "cell_type": "code",
   "execution_count": null,
   "id": "93461bc5",
   "metadata": {},
   "outputs": [],
   "source": [
    "ent_list = []\n",
    "\n",
    "for i in b[:4]:\n",
    "    print(\"aye\", i)\n",
    "    doc = nlp(i) \n",
    "    for entity in doc.ents:\n",
    "        ent_list.append(entity.text)\n",
    "    else:\n",
    "        ent_list.append(\"None\")\n",
    "        "
   ]
  },
  {
   "cell_type": "code",
   "execution_count": null,
   "id": "5ac1b297",
   "metadata": {},
   "outputs": [],
   "source": [
    "ent_list"
   ]
  },
  {
   "cell_type": "code",
   "execution_count": null,
   "id": "3fd40c68",
   "metadata": {},
   "outputs": [],
   "source": [
    "sent_ent = []\n",
    "\n",
    "\n",
    "for line, char in zip(df_c.lines, df_c.name):\n",
    "    doc = nlp(line)\n",
    "    entity_list = [ent.text for ent in doc.ents]\n",
    "    print(\"ENTITY LIST BUILD\", entity_list)\n",
    "    sent_ent.append({\"name\": char, \"line\": line, \"entities\": entity_list})\n",
    "    \n",
    "    for ent in doc.ents:\n",
    "        print(ent.label_)\n",
    "#     doc = nlp(i)\n",
    "#     for entity in doc.ents:\n",
    "#         entity_list.append(entity.text)\n",
    "#     else:\n",
    "#         entity_list.append(\"None\")"
   ]
  },
  {
   "cell_type": "code",
   "execution_count": null,
   "id": "3ce00b6d",
   "metadata": {},
   "outputs": [],
   "source": [
    "sent_ent"
   ]
  },
  {
   "cell_type": "code",
   "execution_count": null,
   "id": "a07e6d32",
   "metadata": {},
   "outputs": [],
   "source": [
    "df_c['Entities'] = entity_list"
   ]
  },
  {
   "cell_type": "code",
   "execution_count": null,
   "id": "cd04fc0c",
   "metadata": {},
   "outputs": [],
   "source": []
  },
  {
   "cell_type": "code",
   "execution_count": null,
   "id": "707fee6c",
   "metadata": {},
   "outputs": [],
   "source": [
    "na_removed"
   ]
  },
  {
   "cell_type": "code",
   "execution_count": null,
   "id": "12b9e1f1",
   "metadata": {},
   "outputs": [],
   "source": [
    "na_removed['line_sent'] = na_removed['lines'].apply(lambda x: TextBlob(x).sentiment[0])"
   ]
  },
  {
   "cell_type": "code",
   "execution_count": null,
   "id": "ec927c09",
   "metadata": {},
   "outputs": [],
   "source": [
    "na_removed"
   ]
  },
  {
   "cell_type": "code",
   "execution_count": null,
   "id": "70d000da",
   "metadata": {},
   "outputs": [],
   "source": [
    "cartman = na_removed[na_removed.name == 'Cartman']"
   ]
  },
  {
   "cell_type": "code",
   "execution_count": null,
   "id": "6a54ae35",
   "metadata": {},
   "outputs": [],
   "source": [
    "cartman"
   ]
  },
  {
   "cell_type": "code",
   "execution_count": null,
   "id": "136946b2",
   "metadata": {},
   "outputs": [],
   "source": [
    "cartman.line_sent.mean()"
   ]
  },
  {
   "cell_type": "code",
   "execution_count": null,
   "id": "9cae0431",
   "metadata": {},
   "outputs": [],
   "source": [
    "cartman.line_sent.sum() / len(cartman)"
   ]
  },
  {
   "cell_type": "code",
   "execution_count": null,
   "id": "5a4dca67",
   "metadata": {},
   "outputs": [],
   "source": [
    "zero_removed = cartman[cartman.line_sent != 0.0000]"
   ]
  },
  {
   "cell_type": "code",
   "execution_count": null,
   "id": "19f38b07",
   "metadata": {},
   "outputs": [],
   "source": [
    "zero_removed.line_sent.mean()"
   ]
  },
  {
   "cell_type": "code",
   "execution_count": null,
   "id": "979417a9",
   "metadata": {},
   "outputs": [],
   "source": [
    "kyle = na_removed[na_removed.name == 'Kyle']"
   ]
  },
  {
   "cell_type": "code",
   "execution_count": null,
   "id": "ef0516ea",
   "metadata": {},
   "outputs": [],
   "source": [
    "kyle.line_sent.sum() / len(kyle)"
   ]
  },
  {
   "cell_type": "code",
   "execution_count": null,
   "id": "40c404fc",
   "metadata": {},
   "outputs": [],
   "source": [
    "wendy = na_removed[na_removed.name == 'Wendy']"
   ]
  },
  {
   "cell_type": "code",
   "execution_count": null,
   "id": "c00ba6bb",
   "metadata": {},
   "outputs": [],
   "source": [
    "wendy"
   ]
  },
  {
   "cell_type": "code",
   "execution_count": null,
   "id": "3f3c0643",
   "metadata": {},
   "outputs": [],
   "source": [
    "wendy.line_sent.sum() / len(wendy)"
   ]
  },
  {
   "cell_type": "code",
   "execution_count": null,
   "id": "2ece85a4",
   "metadata": {},
   "outputs": [],
   "source": [
    "zero_removed = sheila[sheila.line_sent != 0.0000]"
   ]
  },
  {
   "cell_type": "code",
   "execution_count": null,
   "id": "1a5a3d57",
   "metadata": {},
   "outputs": [],
   "source": [
    "zero_removed.line_sent.sum() / len(zero_removed)"
   ]
  },
  {
   "cell_type": "code",
   "execution_count": null,
   "id": "12a060d1",
   "metadata": {},
   "outputs": [],
   "source": [
    "kenny"
   ]
  },
  {
   "cell_type": "code",
   "execution_count": null,
   "id": "ef9e67e5",
   "metadata": {},
   "outputs": [],
   "source": [
    "kenny = na_removed[na_removed.name == 'Kenny']"
   ]
  },
  {
   "cell_type": "code",
   "execution_count": null,
   "id": "bf9ac934",
   "metadata": {},
   "outputs": [],
   "source": [
    "kenny.line_sent.mean()"
   ]
  },
  {
   "cell_type": "code",
   "execution_count": null,
   "id": "8fa79d7d",
   "metadata": {},
   "outputs": [],
   "source": [
    "zero_removed = kenny[kenny.line_sent != 0.0000]"
   ]
  },
  {
   "cell_type": "code",
   "execution_count": null,
   "id": "0eb1f1b9",
   "metadata": {},
   "outputs": [],
   "source": [
    "zero_removed.line_sent.mean()"
   ]
  },
  {
   "cell_type": "code",
   "execution_count": null,
   "id": "4f638e5c",
   "metadata": {},
   "outputs": [],
   "source": [
    "garrison = na_removed[na_removed.name == 'Garrison']"
   ]
  },
  {
   "cell_type": "code",
   "execution_count": null,
   "id": "f15fb25d",
   "metadata": {},
   "outputs": [],
   "source": [
    "garrison"
   ]
  },
  {
   "cell_type": "code",
   "execution_count": null,
   "id": "2a17a6b4",
   "metadata": {},
   "outputs": [],
   "source": [
    "garrison.line_sent.mean()"
   ]
  },
  {
   "cell_type": "code",
   "execution_count": null,
   "id": "6110f95f",
   "metadata": {},
   "outputs": [],
   "source": [
    "means = []\n",
    "names = []\n",
    "\n",
    "for i in na_removed.name.unique():\n",
    "    names.append(i)\n",
    "    unique = na_removed[na_removed.name == i]\n",
    "    mean = unique.line_sent.mean()\n",
    "    means.append(mean)\n",
    "    "
   ]
  },
  {
   "cell_type": "code",
   "execution_count": null,
   "id": "2bd43346",
   "metadata": {},
   "outputs": [],
   "source": [
    "df = pd.DataFrame(list(zip(names, means)),\n",
    "               columns =['Name', 'Mean'])"
   ]
  },
  {
   "cell_type": "code",
   "execution_count": null,
   "id": "d83f3af7",
   "metadata": {},
   "outputs": [],
   "source": [
    "df.sort_values(by = 'Mean', ascending = False)[:50]"
   ]
  },
  {
   "cell_type": "code",
   "execution_count": null,
   "id": "eb089b46",
   "metadata": {},
   "outputs": [],
   "source": [
    "import sys\n",
    "import numpy\n",
    "numpy.set_printoptions(threshold=sys.maxsize)\n",
    "\n",
    "df.name.unique()"
   ]
  }
 ],
 "metadata": {
  "kernelspec": {
   "display_name": "Python (new_spacy)",
   "language": "python",
   "name": "spacy"
  },
  "language_info": {
   "codemirror_mode": {
    "name": "ipython",
    "version": 3
   },
   "file_extension": ".py",
   "mimetype": "text/x-python",
   "name": "python",
   "nbconvert_exporter": "python",
   "pygments_lexer": "ipython3",
   "version": "3.10.11"
  },
  "toc": {
   "base_numbering": 1,
   "nav_menu": {},
   "number_sections": true,
   "sideBar": true,
   "skip_h1_title": false,
   "title_cell": "Table of Contents",
   "title_sidebar": "Contents",
   "toc_cell": false,
   "toc_position": {},
   "toc_section_display": true,
   "toc_window_display": true
  },
  "varInspector": {
   "cols": {
    "lenName": 16,
    "lenType": 16,
    "lenVar": 40
   },
   "kernels_config": {
    "python": {
     "delete_cmd_postfix": "",
     "delete_cmd_prefix": "del ",
     "library": "var_list.py",
     "varRefreshCmd": "print(var_dic_list())"
    },
    "r": {
     "delete_cmd_postfix": ") ",
     "delete_cmd_prefix": "rm(",
     "library": "var_list.r",
     "varRefreshCmd": "cat(var_dic_list()) "
    }
   },
   "types_to_exclude": [
    "module",
    "function",
    "builtin_function_or_method",
    "instance",
    "_Feature"
   ],
   "window_display": false
  }
 },
 "nbformat": 4,
 "nbformat_minor": 5
}
